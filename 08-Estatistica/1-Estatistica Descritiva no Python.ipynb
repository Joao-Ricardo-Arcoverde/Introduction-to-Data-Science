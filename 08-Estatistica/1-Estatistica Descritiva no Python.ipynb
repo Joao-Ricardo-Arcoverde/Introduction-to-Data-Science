{
 "cells": [
  {
   "cell_type": "code",
   "execution_count": 22,
   "metadata": {},
   "outputs": [],
   "source": [
    "import pandas as pd\n",
    "import plotly.express as px\n",
    "import numpy as np\n",
    "import matplotlib.pyplot as plt\n",
    "import seaborn as sns"
   ]
  },
  {
   "attachments": {},
   "cell_type": "markdown",
   "metadata": {},
   "source": [
    "O primeiro conceito importante é diferencias entre população e amostra (sample). População é a coleção de todos os itens de interesse. A amostra é um subconjunto da população. Geralmente mostramos a população com $N$  e a amostra com $n$.\n",
    "\n",
    "Os números que encontramos trabalhando com a população se chamam **parâmetros** e os números da amostra de **estatística**. \n",
    "\n",
    "É difícil trabalhar com a população por isto na pratica trabalhamos com a amostra. Uma amostra tem que ser um subconjunto aleatório e representativo da população."
   ]
  },
  {
   "attachments": {},
   "cell_type": "markdown",
   "metadata": {},
   "source": [
    "# Estatistica Descritiva\n",
    "\n",
    "Estatística Descritiva é um ramo da estatística que se dedica a descrever e resumir as características de um conjunto de dados.\n",
    "\n",
    "## Tipo de Dados\n",
    "\n",
    "Os quatro tipos de escalas de medição comumente discutidos na teoria da medida são nominal, ordinal, intervalar e de razão. Essas escalas são usadas para categorizar e descrever diferentes níveis de mensuração em estudos científicos e em outras áreas de pesquisa.\n",
    "\n",
    "- **Tipo Nominal**: A escala nominal é a mais simples e básica. Ela é usada para categorizar dados em diferentes grupos ou categorias exclusivas. As categorias não têm uma ordem ou relação intrínseca entre si. Exemplos comuns incluem gênero (masculino/feminino), estado civil (solteiro/casado/divorciado), cor dos olhos (azul/verde/castanho), etc. Os dados do tipo nominal podem ser apenas identificados ou contados, mas não podem ser ordenados ou comparados quantitativamente.\n",
    "\n",
    "- **Tipo Ordinal**: A escala ordinal permite classificar os dados em categorias e também estabelecer uma ordem ou hierarquia entre essas categorias. As categorias são distintas, mas também podem ser comparadas em termos de \"maior\" ou \"menor\". No entanto, a diferença entre as categorias não é quantificável ou uniforme. Exemplos de escalas ordinais incluem classificações de satisfação (muito insatisfeito/insatisfeito/neutro/satisfeito/muito satisfeito), níveis de concordância (discordo totalmente/discordo/neutro/concordo/concordo totalmente), classificações de dor (nenhuma/dor leve/dor moderada/dor intensa), etc.\n",
    "\n",
    "- **Tipo Intervalar**: A escala intervalar possui todas as características da escala ordinal, mas também tem uma diferença quantificável e uniforme entre as categorias. Nessa tipo de escala, é possível medir a diferença e a distância entre as categorias usando uma unidade de medida comum. Um exemplo clássico é a escala Celsius de temperatura. Na escala Celsius, a diferença entre 10°C e 20°C é a mesma que a diferença entre 20°C e 30°C. No entanto, a escala intervalar não possui um ponto zero absoluto, o que significa que não é possível realizar operações de razão ou proporções significativas. Exemplos de escalas intervalares incluem pontuações de teste (em que a diferença de 10 pontos representa a mesma diferença em qualquer ponto da escala), escalas de avaliação psicológica, escalas de Likert, etc.\n",
    "\n",
    "- **Tipo de Razão**: A escala de razão tem todas as propriedades da escala intervalar, mas também possui um ponto zero absoluto, o que permite realizar operações matemáticas de razão e proporções. Além disso, as diferenças entre as categorias são uniformes e quantificáveis. Exemplos de escalas de razão incluem medidas físicas como peso, altura, tempo (em segundos), distância (em metros), etc. Na escala de razão, é possível afirmar que uma categoria é o dobro, o triplo ou qualquer outra proporção em relação a outra. Portanto, na escala intervalar, podemos apenas observar a diferença entre os valores, enquanto na escala de razão, além de observar a diferença, podemos fazer afirmações de proporção absoluta em relação a um ponto zero absoluto.\n",
    "\n",
    "Esses quatro tipos de escalas são importantes para determinar a natureza dos dados coletados em uma pesquisa ou estudo e para determinar os tipos de análises estatísticas\n",
    "\n",
    "Os dados podem ser classificados em duas categorias principais: dados categóricos e dados numéricos.\n",
    "\n",
    "- **Categórico** se refere a uma variável que pode assumir valores de uma categoria, como uma marca de carro ou o gênero de uma pessoa.\n",
    "- **Numérico** se refere a uma variável que assume valores numéricos.\n",
    "    - **Discreto** se refere a uma variável numérica que assume valores inteiros, como o número de pessoas em um quarto.\n",
    "    - **Contínuo** se refere a uma variável numérica que pode assumir qualquer valor em um intervalo, como o peso ou a altura de uma pessoa."
   ]
  },
  {
   "attachments": {},
   "cell_type": "markdown",
   "metadata": {},
   "source": [
    "## Três medidas de tendencia central\n",
    "\n",
    "- **Média**: A média é a soma de todos os valores dividida pelo número de valores. A média é o valor mais comum usado para descrever o centro de um conjunto de dados. \n",
    "\n",
    "$$\n",
    "\\bar x = \\frac 1N {\\sum_{i=1}^N x_i}\n",
    "$$\n",
    "\n",
    "- **Mediana**: A mediana é o valor do meio quando os dados são organizados em ordem crescente. Se houver um número par de valores, a mediana será a média dos dois valores do meio.\n",
    "\n",
    "- **Moda**: A moda é o valor que ocorre com mais frequência. Um conjunto de dados pode ter mais de uma moda se houver mais de um valor que ocorra com a mesma frequência máxima.\n",
    "\n"
   ]
  },
  {
   "attachments": {},
   "cell_type": "markdown",
   "metadata": {},
   "source": [
    "```python\n",
    "# media\n",
    "df['coluna'].mean()\n",
    "\n",
    "# mediana\n",
    "df['coluna'].median()\n",
    "\n",
    "# moda\n",
    "df['coluna'].mode()\n",
    "```"
   ]
  },
  {
   "attachments": {},
   "cell_type": "markdown",
   "metadata": {},
   "source": [
    "## Assimetria e Curtose\n",
    "\n",
    "A assimetria e a curtose são medidas estatísticas que ajudam a descrever a forma e a distribuição de um conjunto de dados.\n",
    "\n",
    "- Assimetria: A assimetria mede a falta de simetria em uma distribuição de dados. Ela indica se a distribuição é simétrica, inclinada para a esquerda (negativa) ou inclinada para a direita (positiva). Uma distribuição simétrica tem uma assimetria de 0. A assimetria é, de fato, uma medida do terceiro momento de uma distribuição. A assimetria pode ser calculada usando a seguinte fórmula:\n",
    "\n",
    "$$\n",
    "\\text{Assimetria} = \\frac{\\frac{1}{n} \\sum_{i=1}^{n} (x_i - \\bar{x})^3}{\\left(\\frac{1}{n} \\sum_{i=1}^{n} (x_i - \\bar{x})^2\\right)^{\\frac{3}{2}}}\n",
    "$$\n",
    "\n",
    "- Curtose: A curtose mede o achatamento ou a \"cauda\" de uma distribuição em relação a uma distribuição normal. Ela indica se os valores estão mais concentrados ao redor da média (curtose leptocúrtica), são semelhantes a uma distribuição normal (curtose mesocúrtica) ou se possuem caudas mais pesadas (curtose platicúrtica). A curtose é uma medida do quarto momento de uma distribuição, e sua fórmula é a seguinte:\n",
    "\n",
    "$$\n",
    "\\text{Curtose} = \\frac{\\frac{1}{n} \\sum_{i=1}^{n} (x_i - \\bar{x})^4}{\\left(\\frac{1}{n} \\sum_{i=1}^{n} (x_i - \\bar{x})^2\\right)^2} - 3\n",
    "$$\n",
    "\n",
    "Na literatura, a distribuição normal tem curtose igual a 3. Portanto, a curtose é frequentemente expressa como curtose - 3. Uma distribuição com curtose maior que 3 é chamada de leptocúrtica, enquanto uma distribuição com curtose menor que 3 é chamada de platicúrtica.\n"
   ]
  },
  {
   "cell_type": "code",
   "execution_count": 10,
   "metadata": {},
   "outputs": [
    {
     "data": {
      "image/png": "[encoded data removed]",
      "text/plain": [
       "<Figure size 640x480 with 1 Axes>"
      ]
     },
     "metadata": {},
     "output_type": "display_data"
    },
    {
     "name": "stdout",
     "output_type": "stream",
     "text": [
      "Assimetria: 2.055730163945971\n",
      "Curtose: 6.514662036511938\n"
     ]
    }
   ],
   "source": [
    "\n",
    "\n",
    "# Gerando um conjunto de dados com distribuição assimétrica e curtose não normal\n",
    "np.random.seed(0)\n",
    "dados = np.random.exponential(scale=2, size=1000)\n",
    "\n",
    "# Criando uma série com os dados\n",
    "serie = pd.Series(dados)\n",
    "\n",
    "# Calculando a assimetria e curtose\n",
    "assimetria = serie.skew()\n",
    "curtose = serie.kurtosis()\n",
    "\n",
    "# Plotando o histograma\n",
    "plt.hist(serie, bins=30, edgecolor='black')\n",
    "plt.title('Histograma dos Dados')\n",
    "plt.xlabel('Valores')\n",
    "plt.ylabel('Frequência')\n",
    "plt.show()\n",
    "\n",
    "# Criando o histograma usando o Plotly Express\n",
    "#fig = px.histogram(serie, nbins=200, title='Histograma dos Dados')\n",
    "# Personalizando os eixos\n",
    "#fig.update_layout(xaxis_title='Valores', yaxis_title='Frequência')\n",
    "# Exibindo o histograma\n",
    "#fig.show()\n",
    "\n",
    "print(\"Assimetria:\", assimetria)\n",
    "print(\"Curtose:\", curtose)\n"
   ]
  },
  {
   "attachments": {},
   "cell_type": "markdown",
   "metadata": {},
   "source": [
    "A assimetria e a curtose podem influenciar a escolha dos métodos estatísticos apropriados. Por exemplo, se os dados são altamente assimétricos ou possuem uma curtose extrema, métodos que assumem uma distribuição normal podem não ser adequados. Em vez disso, podem ser necessários métodos não paramétricos ou transformações nos dados para obter resultados mais confiáveis."
   ]
  },
  {
   "attachments": {},
   "cell_type": "markdown",
   "metadata": {},
   "source": [
    "## Variabilidade\n",
    "\n",
    "A variabilidade é uma medida estatística que descreve o grau de dispersão ou espalhamento dos valores em um conjunto de dados. Ela fornece informações sobre a amplitude dos valores e como eles se distribuem em torno de uma medida central, como a média.\n",
    "\n",
    "Existem várias medidas de variabilidade, sendo as mais comuns:\n",
    "\n",
    "- **Amplitude**: É a diferença entre o maior e o menor valor do conjunto de dados. Embora seja uma medida simples, a amplitude é sensível a outliers e pode não fornecer uma visão completa da variabilidade.\n",
    "\n",
    "- **Variância**: É a média dos quadrados das diferenças entre cada valor e a média do conjunto de dados. A variância leva em consideração todos os valores do conjunto, medindo a dispersão em relação à média. No entanto, a variância é uma medida de variabilidade em termos de unidades ao quadrado, o que pode dificultar a interpretação direta.\n",
    "\n",
    "<div style=\"text-align: center;\">\n",
    "<img src='../figures/variancia.png' width=300 height=150 >\n",
    "</div>\n",
    "\n",
    "- **Desvio Padrão**: É a raiz quadrada da variância e representa a medida de dispersão média em relação à média. O desvio padrão é expresso na mesma unidade dos dados originais e fornece uma medida mais intuitiva da variabilidade.\n",
    "\n",
    "<div style=\"text-align: center;\">\n",
    "<img src='../figures/desvio.png' width=300 height=150 >\n",
    "</div>\n",
    "\n",
    "\n",
    "- **Intervalo Interquartil (IQR)**: É a diferença entre o terceiro quartil (Q3) e o primeiro quartil (Q1). O IQR é menos sensível a outliers do que a amplitude e é frequentemente usado em conjunto com o boxplot para identificar valores extremos.\n",
    "\n",
    "Para calcular o IQR, siga estes passos:\n",
    "\n",
    "\n",
    "\n",
    "1. Ordene o conjunto de dados em ordem crescente.\n",
    "2.  Calcule o primeiro quartil (Q1), que é o valor que divide o conjunto de dados em 25% dos valores menores e 75% dos valores maiores. Isso pode ser feito encontrando a mediana dos valores menores que a mediana geral.\n",
    "3. Calcule o terceiro quartil (Q3), que é o valor que divide o conjunto de dados em 75% dos valores menores e 25% dos valores maiores. Isso pode ser feito encontrando a mediana dos valores maiores que a mediana geral.\n",
    "4. Calcule o IQR subtraindo Q1 de Q3: \n",
    "\n",
    "$$\n",
    "IQR = Q3 - Q1.\n",
    "$$\n",
    "\n",
    "<div style=\"text-align: center;\">\n",
    "<img src='../figures/iqr.jpg' width=350 height=200 >\n",
    "</div>\n",
    "\n",
    "\n",
    "O IQR fornece uma medida da dispersão central dos dados, representando a amplitude dos valores que contêm a maior parte dos dados. Valores que estão além de 1,5 vezes o IQR acima do terceiro quartil ou abaixo do primeiro quartil são frequentemente considerados como potenciais outliers.\n",
    "\n",
    "<div style=\"text-align: center;\">\n",
    "<img src='../figures/iqr2.png' width=400 height=300 >\n",
    "</div>\n",
    "\n",
    "- **Coeficiente de Variação (CV)**: É o desvio padrão expresso como uma porcentagem da média. O CV é útil para comparar a variabilidade relativa entre diferentes conjuntos de dados, especialmente quando as médias dos conjuntos são significativamente diferentes.\n",
    "\n",
    "$$\n",
    "C_\\nu = \\frac \\sigma\\mu  \\quad\\text{ou} \\quad \\hat C_\\nu = \\frac s{\\bar{x}} \n",
    "$$\n",
    "\n",
    ">\n",
    "> O CV é frequentemente usado para comparar a variabilidade entre diferentes conjuntos de dados, especialmente quando as médias dos conjuntos são significativamente diferentes. \n",
    "\n",
    "<div style=\"text-align: center;\">\n",
    "<img src='../figures/cv.png' width=300 height=150 >\n",
    "</div>\n",
    "\n",
    "Por exemplo, considere os seguintes conjuntos de dados:\n",
    "\n",
    "<div style=\"text-align: center;\">\n",
    "<img src='../figures/cv2.png' width=450 height=250 >\n",
    "</div>\n",
    "\n",
    "Embora os valores em peso tenham uma variância maior do que os valores em dolar, o CV dos dois conjuntosé semelhante.\n",
    "\n",
    "\n",
    "A análise da variabilidade é essencial para entender a dispersão dos dados e pode ser útil em várias áreas, como controle de qualidade, finanças, estatísticas descritivas e análise de risco. Ela nos ajuda a compreender a dispersão dos valores e a tomar decisões informadas com base na amplitude dos dados."
   ]
  },
  {
   "cell_type": "code",
   "execution_count": 13,
   "metadata": {},
   "outputs": [
    {
     "name": "stdout",
     "output_type": "stream",
     "text": [
      "Média: 21.3\n",
      "Variância: 64.9\n",
      "Desvio Padrão: 8.056053624449133\n",
      "IQR: 11.0\n"
     ]
    },
    {
     "data": {
      "image/png": "[encoded data removed]",
      "text/plain": [
       "<Figure size 500x400 with 1 Axes>"
      ]
     },
     "metadata": {},
     "output_type": "display_data"
    }
   ],
   "source": [
    "\n",
    "# Exemplo de dados\n",
    "dados = [10, 12, 15, 17, 20, 22, 25, 27, 30, 35]\n",
    "\n",
    "# Criar um DataFrame a partir dos dados\n",
    "df = pd.DataFrame(dados, columns=['Valores'])\n",
    "\n",
    "# Calcular medidas de variabilidade\n",
    "media = df['Valores'].mean()\n",
    "variancia = df['Valores'].var()\n",
    "desvio_padrao = df['Valores'].std()\n",
    "iqr = df['Valores'].quantile(0.75) - df['Valores'].quantile(0.25)\n",
    "\n",
    "# Imprimir as medidas de variabilidade\n",
    "print(\"Média:\", media)\n",
    "print(\"Variância:\", variancia)\n",
    "print(\"Desvio Padrão:\", desvio_padrao)\n",
    "print(\"IQR:\", iqr)\n",
    "\n",
    "plt.figure(figsize=(5, 4))\n",
    "# Plotar um gráfico de boxplot\n",
    "df.boxplot(column='Valores')\n",
    "\n",
    "# Exibir o gráfico\n",
    "plt.title('Boxplot dos Dados')\n",
    "plt.xlabel('Valores')\n",
    "plt.ylabel('Distribuição')\n",
    "plt.show()\n"
   ]
  },
  {
   "attachments": {},
   "cell_type": "markdown",
   "metadata": {},
   "source": [
    "E para coeficiente de variação temos"
   ]
  },
  {
   "cell_type": "code",
   "execution_count": 15,
   "metadata": {},
   "outputs": [
    {
     "name": "stdout",
     "output_type": "stream",
     "text": [
      "Desvio Padrão (Dados 1): 8.056053624449133\n",
      "Desvio Padrão (Dados 2): 80.56053624449132\n",
      "Coeficiente de Variação (Dados 1): 37.8218480021086\n",
      "Coeficiente de Variação (Dados 2): 37.8218480021086\n"
     ]
    }
   ],
   "source": [
    "# Exemplo de dois conjuntos de dados\n",
    "dados1 = [10, 12, 15, 17, 20, 22, 25, 27, 30, 35]\n",
    "dados2 = [100, 120, 150, 170, 200, 220, 250, 270, 300, 350]\n",
    "\n",
    "# Criar DataFrames a partir dos dados\n",
    "df1 = pd.DataFrame(dados1, columns=['Valores'])\n",
    "df2 = pd.DataFrame(dados2, columns=['Valores'])\n",
    "\n",
    "# Calcular coeficiente de variação\n",
    "cv1 = (df1['Valores'].std() / df1['Valores'].mean()) * 100\n",
    "cv2 = (df2['Valores'].std() / df2['Valores'].mean()) * 100\n",
    "\n",
    "# Imprimir os desvios padrão\n",
    "print(\"Desvio Padrão (Dados 1):\", df1['Valores'].std())\n",
    "print(\"Desvio Padrão (Dados 2):\", df2['Valores'].std())\n",
    "\n",
    "# Imprimir coeficientes de variação\n",
    "print(\"Coeficiente de Variação (Dados 1):\", cv1)\n",
    "print(\"Coeficiente de Variação (Dados 2):\", cv2)\n"
   ]
  },
  {
   "attachments": {},
   "cell_type": "markdown",
   "metadata": {},
   "source": [
    "Agora vamos ver como detectar os outliers em um conjunto de dados usando o IQR."
   ]
  },
  {
   "cell_type": "code",
   "execution_count": 18,
   "metadata": {},
   "outputs": [
    {
     "name": "stdout",
     "output_type": "stream",
     "text": [
      "IQR: 12.5\n",
      "Outliers:\n",
      "     Valores\n",
      "10      200\n"
     ]
    },
    {
     "data": {
      "image/png": "[encoded data removed]",
      "text/plain": [
       "<Figure size 500x400 with 1 Axes>"
      ]
     },
     "metadata": {},
     "output_type": "display_data"
    }
   ],
   "source": [
    "import pandas as pd\n",
    "import matplotlib.pyplot as plt\n",
    "\n",
    "# Exemplo de conjunto de dados\n",
    "dados = [10, 12, 15, 17, 20, 22, 25, 27, 30, 35, 200]\n",
    "\n",
    "# Criar DataFrame a partir dos dados\n",
    "df = pd.DataFrame(dados, columns=['Valores'])\n",
    "\n",
    "# Calcular IQR\n",
    "iqr = df['Valores'].quantile(0.75) - df['Valores'].quantile(0.25)\n",
    "\n",
    "# Calcular limites para outliers\n",
    "limite_inferior = df['Valores'].quantile(0.25) - 1.5 * iqr\n",
    "limite_superior = df['Valores'].quantile(0.75) + 1.5 * iqr\n",
    "\n",
    "# Identificar outliers\n",
    "outliers = df[(df['Valores'] < limite_inferior) | (df['Valores'] > limite_superior)]\n",
    "\n",
    "# Imprimir IQR e outliers\n",
    "print(\"IQR:\", iqr)\n",
    "print(\"Outliers:\\n\", outliers)\n",
    "\n",
    "# Plotar gráfico de boxplot\n",
    "plt.figure(figsize=(5, 4))\n",
    "df.boxplot(column='Valores')\n",
    "\n",
    "# Configurar título e rótulo do gráfico\n",
    "plt.title('Boxplot dos Dados')\n",
    "plt.ylabel('Valores')\n",
    "\n",
    "# Exibir o gráfico\n",
    "plt.show()\n"
   ]
  },
  {
   "attachments": {},
   "cell_type": "markdown",
   "metadata": {},
   "source": [
    "## Correlação e Covariância\n",
    "\n",
    "A correlação e a covariância são medidas estatísticas que nos ajudam a entender a relação entre duas variáveis. Ambas as medidas descrevem a natureza e a intensidade do relacionamento entre as variáveis.\n",
    "\n",
    "### Covariância:\n",
    "A covariância é uma medida que indica como duas variáveis variam juntas. Ela mede a relação linear entre duas variáveis, indicando se elas tendem a variar na mesma direção (covariância positiva) ou em direções opostas (covariância negativa). A covariância não é padronizada e é influenciada pelas unidades de medida das variáveis.\n",
    "\n",
    "A fórmula para calcular a covariância amostral entre duas variáveis $X$ e $Y$, com n observações, é dada por:\n",
    "\n",
    "$$\n",
    "\\text{Cov}(X, Y) = \\frac{\\sum (x_i - \\bar{X})(y_i - \\bar{Y})}{n - 1}\n",
    "$$\n",
    "\n",
    "Onde:\n",
    "- $x_i$ e $y_i$ são as observações individuais de $X$ e $Y$, respectivamente.\n",
    "- $\\bar X$ e $\\bar Y$ são as médias de $X$ e $Y$, respectivamente.\n",
    "\n",
    "Resumindo:\n",
    "- $\\text{Cov}(X, Y) > 0$, as duas variáveis andam juntas\n",
    "- $\\text{Cov}(X, Y) < 0$, as duas variáveis andam na direção oposta\n",
    "- $\\text{Cov}(X, Y) = 0$, as duas variáveis são independentes.\n",
    "\n",
    "### Correlação:\n",
    "A correlação é uma medida padronizada que varia de -1 a 1 e indica a força e a direção da relação linear entre duas variáveis. A correlação é uma medida adimensional e não é afetada pelas unidades de medida das variáveis.\n",
    "\n",
    "A fórmula para calcular a correlação amostral (coeficiente de correlação de Pearson) entre duas variáveis $X$ e $Y$, com n observações, é dada por:\n",
    "\n",
    "$$\n",
    "\\text{Corr}(X, Y) = \\frac{\\text{Cov}(X, Y)}{s_X \\cdot s_Y}\n",
    "$$\n",
    "\n",
    "Onde:\n",
    "- $\\text{Cov}(X, Y)$ é a covariância entre $X$ e $Y$.\n",
    "- $s_X$ e $s_Y$ são os desvios padrão de $X$ e $Y$, respectivamente.\n",
    "\n",
    "A correlação varia de -1 a 1, onde -1 indica uma correlação negativa perfeita, 1 indica uma correlação positiva perfeita e 0 indica nenhuma correlação linear.\n",
    "\n",
    "Lembrando que as fórmulas apresentadas são para a covariância e correlação amostral, onde a média é estimada com base nas observações disponíveis.\n",
    "\n",
    "O cálculo da covariância e da correlação pode ser realizado utilizando bibliotecas estatísticas,"
   ]
  },
  {
   "cell_type": "code",
   "execution_count": 23,
   "metadata": {},
   "outputs": [
    {
     "name": "stdout",
     "output_type": "stream",
     "text": [
      "Covariância: 1.2743154362416111\n",
      "Correlação: 0.8717537758865831\n"
     ]
    },
    {
     "data": {
      "image/png": "[encoded data removed]",
      "text/plain": [
       "<Figure size 640x480 with 1 Axes>"
      ]
     },
     "metadata": {},
     "output_type": "display_data"
    }
   ],
   "source": [
    "import seaborn as sns\n",
    "\n",
    "# Carregar o dataset Iris\n",
    "iris = sns.load_dataset('iris')\n",
    "\n",
    "# Calcular a covariância\n",
    "covariancia = iris['sepal_length'].cov(iris['petal_length'])\n",
    "\n",
    "# Calcular a correlação\n",
    "correlacao = iris['sepal_length'].corr(iris['petal_length'])\n",
    "\n",
    "# Imprimir os resultados\n",
    "print(\"Covariância:\", covariancia)\n",
    "print(\"Correlação:\", correlacao)\n",
    "\n",
    "# Plotar gráfico de dispersão\n",
    "sns.scatterplot(data=iris, x='sepal_length', y='petal_length')\n",
    "\n",
    "# Exibir o gráfico\n",
    "plt.show()\n"
   ]
  },
  {
   "attachments": {},
   "cell_type": "markdown",
   "metadata": {},
   "source": [
    "<div style='text-align:center' >\n",
    "<h3> <i>Correlação não implica causalidade <i></h3>\n",
    "</div>"
   ]
  },
  {
   "attachments": {},
   "cell_type": "markdown",
   "metadata": {},
   "source": [
    "### **Exercícios**:\n",
    "\n",
    "#### Exercício 1:\n",
    "Faça uma analise descritiva do conjunto de dados em anexo [Clica aqui para baixar o exercicio](\"../data/2.13.+Practical+example.+Descriptive+statistics_lesson.xlsx\")\n",
    "\n",
    "**Solucão**:\n",
    "Algumas conclusões sobre o conjunto de dados:\n",
    "\n",
    "<div style='text-align:center' >\n",
    "<img src='../figures/solução-stat-descri.png' width=500 height=100 >\n",
    "</div>\n",
    "\n",
    "\n",
    "#### Exercício 2: \n",
    "Faça uma analise descritiva do conjunto de dados em anexo [Clica aqui para baixar o exercicio](\"../data/2.13.Practical-example.Descriptive-statistics-exercise.xlsx\")\n",
    "\n",
    "- Calcule a média, mediana, moda, variância, desvio padrão, coeficiente de variação, amplitude, IQR, coeficiente de assimetria e curtose para cada variável.\n",
    "\n",
    "- Calcule a covariância e correlação entre as variáveis.\n",
    "\n",
    "- Faça um gráfico de dispersão entre as variáveis.\n",
    "\n",
    "\n",
    "**Solucão**:\n",
    "[Clica aqui para baixar a solução](\"../data/2.13.Practical-example.Descriptive-statistics-exercise-solution.xlsx\")"
   ]
  },
  {
   "cell_type": "code",
   "execution_count": null,
   "metadata": {},
   "outputs": [],
   "source": []
  }
 ],
 "metadata": {
  "kernelspec": {
   "display_name": "base",
   "language": "python",
   "name": "python3"
  },
  "language_info": {
   "codemirror_mode": {
    "name": "ipython",
    "version": 3
   },
   "file_extension": ".py",
   "mimetype": "text/x-python",
   "name": "python",
   "nbconvert_exporter": "python",
   "pygments_lexer": "ipython3",
   "version": "3.10.11"
  },
  "orig_nbformat": 4
 },
 "nbformat": 4,
 "nbformat_minor": 2
}
