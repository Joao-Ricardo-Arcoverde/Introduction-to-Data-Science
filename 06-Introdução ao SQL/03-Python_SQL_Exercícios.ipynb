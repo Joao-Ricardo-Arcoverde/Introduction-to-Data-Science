{
  "cells": [
    {
      "cell_type": "markdown",
      "metadata": {
        "colab_type": "text",
        "id": "view-in-github"
      },
      "source": [
        "<a href=\"https://colab.research.google.com/github/Joao-Ricardo-Arcoverde/Introduction-to-Data-Science/blob/main/Python_SQL_Exs.ipynb\" target=\"_parent\"><img src=\"https://colab.research.google.com/assets/colab-badge.svg\" alt=\"Open In Colab\"/></a>"
      ]
    },
    {
      "attachments": {},
      "cell_type": "markdown",
      "metadata": {},
      "source": [
        "___\n",
        "\n",
        "<a href='https://sites.google.com/fat.uerj.br/livia'> <img src='../figures/capa2.png' /></a>\n",
        "___"
      ]
    },
    {
      "cell_type": "markdown",
      "metadata": {
        "id": "Xs6cDk_-7l10"
      },
      "source": [
        "# **Integração SQL x Pyhton**"
      ]
    },
    {
      "attachments": {},
      "cell_type": "markdown",
      "metadata": {
        "id": "s9Q_76z39Tlc"
      },
      "source": [
        "## **Importando o necessário**\n"
      ]
    },
    {
      "cell_type": "code",
      "execution_count": 62,
      "metadata": {
        "id": "U5ix_ghRADOi"
      },
      "outputs": [],
      "source": [
        "# Importar pacotes necessários\n"
      ]
    },
    {
      "cell_type": "code",
      "execution_count": 63,
      "metadata": {
        "id": "w6ApJfZIAFG5"
      },
      "outputs": [],
      "source": [
        "# Carregar módulo SQL\n"
      ]
    },
    {
      "cell_type": "code",
      "execution_count": 64,
      "metadata": {
        "id": "LaKAQ6dj8Pvk"
      },
      "outputs": [],
      "source": [
        "# Conectar ao banco de dados\n",
        "\n"
      ]
    },
    {
      "cell_type": "markdown",
      "metadata": {
        "id": "cVrQk4mt9o0U"
      },
      "source": [
        "## **Aplicando comandos**"
      ]
    },
    {
      "attachments": {},
      "cell_type": "markdown",
      "metadata": {
        "id": "tN0Ihpx_BlcI"
      },
      "source": [
        "### **SELECT** é usado para mostrar nossos dados\n",
        "\n",
        "### **FROM** é usado para especificar a tabela com que estamos trabalhando"
      ]
    },
    {
      "attachments": {},
      "cell_type": "markdown",
      "metadata": {
        "id": "k_L8OEnlSUym"
      },
      "source": [
        "### **SELECT** : Seleciona todas as colunas da tabela\n",
        "\n",
        "*Selecione todas as colunas de sua tabela:*"
      ]
    },
    {
      "cell_type": "code",
      "execution_count": null,
      "metadata": {
        "id": "rDKSRhEO8QPk"
      },
      "outputs": [],
      "source": []
    },
    {
      "cell_type": "markdown",
      "metadata": {
        "id": "BMqRowiBSZbO"
      },
      "source": [
        "#### **SELECT Col1, Col2...** Seleciona colunas específicas\n",
        "\n",
        "*Selecione as colunas name e continent de sua tabela*"
      ]
    },
    {
      "cell_type": "code",
      "execution_count": null,
      "metadata": {
        "id": "ePRjEdO9Bvgn"
      },
      "outputs": [],
      "source": []
    },
    {
      "cell_type": "markdown",
      "metadata": {
        "id": "S0rnRAcLSd-W"
      },
      "source": [
        "#### **AS**: Após selecionar as colunas específicas, é possível renomeá-las\n",
        "\n",
        "*Selecione as colunas name e population de sua tabela, e as nomeie como País e População*"
      ]
    },
    {
      "cell_type": "code",
      "execution_count": null,
      "metadata": {
        "id": "axXlTDV6B3lA"
      },
      "outputs": [],
      "source": []
    },
    {
      "cell_type": "markdown",
      "metadata": {
        "id": "eQSDhMKsSm41"
      },
      "source": [
        "#### **LIMIT:** Seleciona n primeiras linhas\n",
        "\n",
        "*Selecione as 5 primeiras linhas de sua tabela* "
      ]
    },
    {
      "cell_type": "code",
      "execution_count": null,
      "metadata": {
        "id": "pWou_-NyCPWg"
      },
      "outputs": [],
      "source": []
    },
    {
      "cell_type": "markdown",
      "metadata": {
        "id": "wOzcxp_1Stod"
      },
      "source": [
        "### **ORDER BY:** ordena a tabela inteira de acordo com uma coluna"
      ]
    },
    {
      "cell_type": "markdown",
      "metadata": {
        "id": "RyOo55MISw8G"
      },
      "source": [
        "#### **DESC:** ordena do maior para o menor, de forma descendente\n",
        "\n",
        "*Mostre os 10 países mais populosos do mundo de sua tabela, mostrando nome e população, de forma descrescente*"
      ]
    },
    {
      "cell_type": "code",
      "execution_count": null,
      "metadata": {
        "id": "n8yBf1ekECpp"
      },
      "outputs": [],
      "source": []
    },
    {
      "cell_type": "markdown",
      "metadata": {
        "id": "avhYo7uGTCYn"
      },
      "source": [
        "#### **ASC:** ordena do menor para o maior, de forma ascendente\n",
        "\n",
        "*Mostre os 5 países mais pobres de sua tabela, mostrando seus respectivos nomes, continentes e gdp*"
      ]
    },
    {
      "cell_type": "code",
      "execution_count": null,
      "metadata": {
        "id": "I0nFIEXY6v1L"
      },
      "outputs": [],
      "source": []
    },
    {
      "cell_type": "markdown",
      "metadata": {
        "id": "GWN3RUDD6287"
      },
      "source": [
        "### **WHERE** aplica filtros específicos, como =, >= e <=."
      ]
    },
    {
      "cell_type": "markdown",
      "metadata": {
        "id": "8w1-418SEghn"
      },
      "source": [
        "*Mostre todos os países asiáticos de sua tabela*"
      ]
    },
    {
      "cell_type": "code",
      "execution_count": null,
      "metadata": {
        "id": "bI1pnyGyTGOt"
      },
      "outputs": [],
      "source": []
    },
    {
      "cell_type": "markdown",
      "metadata": {
        "id": "lpcKGXZVEslH"
      },
      "source": [
        "*Países com população superior ou igual a 200 milhões de habitantes de sua tabela*"
      ]
    },
    {
      "cell_type": "code",
      "execution_count": null,
      "metadata": {
        "id": "PDYvu0-TC2CM"
      },
      "outputs": [],
      "source": []
    },
    {
      "cell_type": "markdown",
      "metadata": {
        "id": "S0zdNS9qE8Nh"
      },
      "source": [
        "*Países localizados na América do Sul de sua tabela*"
      ]
    },
    {
      "cell_type": "code",
      "execution_count": null,
      "metadata": {
        "id": "8AlNGy-sC2AK"
      },
      "outputs": [],
      "source": []
    },
    {
      "cell_type": "markdown",
      "metadata": {
        "id": "g2w6CMXP7Hh9"
      },
      "source": [
        "#### **OR** e **AND:** combinam filtros"
      ]
    },
    {
      "cell_type": "markdown",
      "metadata": {
        "id": "BuD2Li9GFYq2"
      },
      "source": [
        "*Apresente os países americanos de sua tabela*"
      ]
    },
    {
      "cell_type": "code",
      "execution_count": null,
      "metadata": {
        "id": "To20lkufC18f"
      },
      "outputs": [],
      "source": []
    },
    {
      "cell_type": "markdown",
      "metadata": {
        "id": "sODtXMFU7Sb3"
      },
      "source": [
        "### **COUNT** contabiliza linhas em uma coluna"
      ]
    },
    {
      "cell_type": "markdown",
      "metadata": {
        "id": "YUBGbyjuJxtk"
      },
      "source": [
        "*Veja quantas linhas as colunas de sua tabela possuem*"
      ]
    },
    {
      "cell_type": "code",
      "execution_count": null,
      "metadata": {
        "id": "77bb9RSGC11g"
      },
      "outputs": [],
      "source": []
    },
    {
      "cell_type": "markdown",
      "metadata": {
        "id": "Th2RGBxG7aJl"
      },
      "source": [
        "#### **COUNT(DISTINCT)** contabiliza quantas variáveis possuem em uma coluna"
      ]
    },
    {
      "cell_type": "markdown",
      "metadata": {
        "id": "QeiGsv8lKPaG"
      },
      "source": [
        "*Mostre quantos continentes estão presentes na sua tabela*"
      ]
    },
    {
      "cell_type": "code",
      "execution_count": null,
      "metadata": {
        "id": "Kz4KPXuNEniZ"
      },
      "outputs": [],
      "source": []
    },
    {
      "cell_type": "markdown",
      "metadata": {
        "id": "i5a43xGL7lRF"
      },
      "source": [
        "### **Operadores matemáticos**"
      ]
    },
    {
      "cell_type": "markdown",
      "metadata": {
        "id": "7eXstqLF7oM1"
      },
      "source": [
        "#### **SUM** é o somatório de valores de uma coluna"
      ]
    },
    {
      "cell_type": "markdown",
      "metadata": {
        "id": "WCIp8JsjKdAs"
      },
      "source": [
        "*Quantos habitantes estão presentes em sua tabela?*"
      ]
    },
    {
      "cell_type": "code",
      "execution_count": null,
      "metadata": {
        "id": "1xRW16NVHVyl"
      },
      "outputs": [],
      "source": []
    },
    {
      "cell_type": "markdown",
      "metadata": {
        "id": "tMi3y_AF7p7s"
      },
      "source": [
        "#### **AVG:** Média de valores de uma coluna"
      ]
    },
    {
      "cell_type": "markdown",
      "metadata": {
        "id": "azYn_xOqK1sO"
      },
      "source": [
        "*Qual o PIB médio mundial?*"
      ]
    },
    {
      "cell_type": "code",
      "execution_count": null,
      "metadata": {
        "id": "1kK1Dc5OIU7-"
      },
      "outputs": [],
      "source": []
    },
    {
      "cell_type": "markdown",
      "metadata": {
        "id": "DTHB292I7sc3"
      },
      "source": [
        "#### **MIN:** Menor valor de uma coluna\n",
        "\n",
        "*Qual o menor país do mundo?*"
      ]
    },
    {
      "cell_type": "code",
      "execution_count": null,
      "metadata": {
        "id": "o5MiM34nItEL"
      },
      "outputs": [],
      "source": []
    },
    {
      "cell_type": "code",
      "execution_count": null,
      "metadata": {
        "id": "V_S3jTjJNBoF"
      },
      "outputs": [],
      "source": []
    },
    {
      "cell_type": "markdown",
      "metadata": {
        "id": "QP73CcZM7tft"
      },
      "source": [
        "#### **MAX:** Maior valor de uma coluna"
      ]
    },
    {
      "cell_type": "markdown",
      "metadata": {
        "id": "4HqiPGlKzkO6"
      },
      "source": [
        "*Qual o maior país do mundo?*"
      ]
    },
    {
      "cell_type": "code",
      "execution_count": null,
      "metadata": {
        "id": "-6aiVeDbI1lF"
      },
      "outputs": [],
      "source": []
    },
    {
      "cell_type": "code",
      "execution_count": null,
      "metadata": {
        "id": "1k64pc1xPF-q"
      },
      "outputs": [],
      "source": []
    },
    {
      "cell_type": "markdown",
      "metadata": {
        "id": "45koSWjk-ClL"
      },
      "source": [
        "### **GROUP BY** permite mostrar quantas vezes uma variável é repetida em uma coluna"
      ]
    },
    {
      "cell_type": "markdown",
      "metadata": {
        "id": "5cvbfXbiP-4r"
      },
      "source": [
        "**Mostre quantos países existem em cada continente**"
      ]
    },
    {
      "cell_type": "code",
      "execution_count": null,
      "metadata": {
        "id": "dwgVQDmV-Ibz"
      },
      "outputs": [],
      "source": []
    },
    {
      "cell_type": "markdown",
      "metadata": {
        "id": "vVZVP65lPzjw"
      },
      "source": [
        "## **Execícios - Revisão**"
      ]
    },
    {
      "cell_type": "markdown",
      "metadata": {
        "id": "DGnjNzrKz-pR"
      },
      "source": [
        "### 1) Mostre todos os dados de sua tabela"
      ]
    },
    {
      "cell_type": "code",
      "execution_count": null,
      "metadata": {
        "id": "UIYvoJxw8ByN"
      },
      "outputs": [],
      "source": []
    },
    {
      "cell_type": "markdown",
      "metadata": {
        "id": "NnkYD3-LQAyv"
      },
      "source": [
        "### 2) Mostre as colunas nome e população da sua tabela"
      ]
    },
    {
      "cell_type": "code",
      "execution_count": null,
      "metadata": {
        "id": "fD_qTAX4DNtu"
      },
      "outputs": [],
      "source": []
    },
    {
      "cell_type": "markdown",
      "metadata": {
        "id": "CmYTOcb_QBF_"
      },
      "source": [
        "### 3) Mostre as colunas 'name' e 'continent', chamando elas de 'País' e 'Continente'."
      ]
    },
    {
      "cell_type": "code",
      "execution_count": null,
      "metadata": {
        "id": "U31AyeHCG9aN"
      },
      "outputs": [],
      "source": []
    },
    {
      "cell_type": "markdown",
      "metadata": {
        "id": "Aq8R6fuGQB7P"
      },
      "source": [
        "### 4) Mostre as 6 primeiras linhas da sua tabela"
      ]
    },
    {
      "cell_type": "code",
      "execution_count": null,
      "metadata": {
        "id": "Z2IOghkPHg0D"
      },
      "outputs": [],
      "source": []
    },
    {
      "cell_type": "markdown",
      "metadata": {
        "id": "xE3tqpv1QCW_"
      },
      "source": [
        "### 5) Mostre em ordem alfabética decrescente (Z-A) 10 linhas da tabela, de acordo com os nomes dos países"
      ]
    },
    {
      "cell_type": "code",
      "execution_count": null,
      "metadata": {
        "id": "_QliUml7IvX6"
      },
      "outputs": [],
      "source": []
    },
    {
      "cell_type": "markdown",
      "metadata": {
        "id": "PgeivRuaQClf"
      },
      "source": [
        "### 6) Apresente os países que têm gdp maior que 1 trilhão de dólares"
      ]
    },
    {
      "cell_type": "code",
      "execution_count": null,
      "metadata": {
        "id": "TWeuGZ3yMYcR"
      },
      "outputs": [],
      "source": []
    },
    {
      "cell_type": "markdown",
      "metadata": {
        "id": "qOIrVCQYQC0X"
      },
      "source": [
        "### 7) Mostre os países do continente europeu e asiático"
      ]
    },
    {
      "cell_type": "code",
      "execution_count": null,
      "metadata": {
        "id": "bxLimka-Lv6C"
      },
      "outputs": [],
      "source": []
    },
    {
      "attachments": {},
      "cell_type": "markdown",
      "metadata": {
        "id": "bqgLZGL8NGPY"
      },
      "source": [
        "### 8) Quantos continentes estão contidos na sua tabela?"
      ]
    },
    {
      "cell_type": "code",
      "execution_count": null,
      "metadata": {
        "id": "r7N3xbp4LDOB"
      },
      "outputs": [],
      "source": []
    },
    {
      "cell_type": "markdown",
      "metadata": {
        "id": "qpBKKEKfOHF4"
      },
      "source": [
        "### 9) Faça a soma da população de todos os países"
      ]
    },
    {
      "cell_type": "code",
      "execution_count": null,
      "metadata": {
        "id": "4aKCr6A2TdrD"
      },
      "outputs": [],
      "source": []
    },
    {
      "cell_type": "markdown",
      "metadata": {
        "id": "p_j6udNhVDL0"
      },
      "source": [
        "### 10) Qual o país mais populoso?"
      ]
    },
    {
      "cell_type": "code",
      "execution_count": null,
      "metadata": {
        "id": "zi6WM0p0WqHq"
      },
      "outputs": [],
      "source": []
    },
    {
      "cell_type": "code",
      "execution_count": null,
      "metadata": {
        "id": "8LeAaXtGFpK1"
      },
      "outputs": [],
      "source": []
    },
    {
      "cell_type": "markdown",
      "metadata": {
        "id": "kMRoZzA6Y7Bz"
      },
      "source": [
        "### 11) Mostre quantos países em cada continente possui mais de 200 milhões de habitantes"
      ]
    },
    {
      "cell_type": "code",
      "execution_count": null,
      "metadata": {
        "id": "FRfkbAU29lLV"
      },
      "outputs": [],
      "source": []
    }
  ],
  "metadata": {
    "colab": {
      "authorship_tag": "ABX9TyMfRUsZG4hm47M9vLE8qER/",
      "collapsed_sections": [
        "tN0Ihpx_BlcI"
      ],
      "include_colab_link": true,
      "provenance": []
    },
    "kernelspec": {
      "display_name": "Python 3",
      "name": "python3"
    },
    "language_info": {
      "name": "python"
    }
  },
  "nbformat": 4,
  "nbformat_minor": 0
}
