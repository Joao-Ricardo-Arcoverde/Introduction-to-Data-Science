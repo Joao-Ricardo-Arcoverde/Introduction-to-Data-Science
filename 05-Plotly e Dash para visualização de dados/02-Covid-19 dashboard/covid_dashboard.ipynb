{
  "nbformat": 4,
  "nbformat_minor": 0,
  "metadata": {
    "colab": {
      "provenance": []
    },
    "kernelspec": {
      "name": "python3",
      "display_name": "Python 3"
    },
    "language_info": {
      "name": "python"
    }
  },
  "cells": [
    {
      "cell_type": "markdown",
      "source": [
        "Plotly: Vem com ferramentas para criar o dashboard e construir gráfico\n",
        "\n",
        "Dash Bootstrap Components permite inserir temas que ajudam no visual\n",
        "\n",
        "Dados tirados de covid.saude.gov.br, onde é possível obter informações atuais do Brasil.\n",
        "\n",
        "Temos brazil_geo_.json que tem informações geográficas do Brasil.\n",
        "\n",
        "Temos os assets que darão a logo e o estilo pré configurado.\n",
        "\n",
        "\n"
      ],
      "metadata": {
        "id": "yG4V6651ZSLm"
      }
    },
    {
      "cell_type": "markdown",
      "source": [
        "# Dataset\n",
        "\n",
        "Informações do Brasil, Estados e Municipios, com 2 milhões de linhas\n",
        "\n",
        "Possui colunas de região, estado, município, códigos do município, datas, quantidades de casos, óbitos, etc.\n",
        "\n",
        "Quando os dados se referem ao Brasil, não vemos informações de estado e município. Assim como dados de estados e municípios não possuem dados do Brasil. Devemos entender isso para conseguir separá-los. "
      ],
      "metadata": {
        "id": "aAWITUT1ZGAW"
      }
    },
    {
      "cell_type": "markdown",
      "source": [
        "# Formatação\n",
        "\n"
      ],
      "metadata": {
        "id": "NK2s0ETdacGd"
      }
    },
    {
      "cell_type": "code",
      "source": [
        "!pip install dash jupyter_dash dash_bootstrap_components"
      ],
      "metadata": {
        "id": "8s-J3qrOdac3",
        "colab": {
          "base_uri": "https://localhost:8080/"
        },
        "outputId": "2dd1aff6-8926-4e84-fc60-44fcf587548b"
      },
      "execution_count": 4,
      "outputs": [
        {
          "output_type": "stream",
          "name": "stdout",
          "text": [
            "Looking in indexes: https://pypi.org/simple, https://us-python.pkg.dev/colab-wheels/public/simple/\n",
            "Requirement already satisfied: dash in /usr/local/lib/python3.9/dist-packages (2.9.1)\n",
            "Requirement already satisfied: jupyter_dash in /usr/local/lib/python3.9/dist-packages (0.4.2)\n",
            "Requirement already satisfied: dash_bootstrap_components in /usr/local/lib/python3.9/dist-packages (1.4.1)\n",
            "Requirement already satisfied: dash-core-components==2.0.0 in /usr/local/lib/python3.9/dist-packages (from dash) (2.0.0)\n",
            "Requirement already satisfied: Flask>=1.0.4 in /usr/local/lib/python3.9/dist-packages (from dash) (2.2.3)\n",
            "Requirement already satisfied: plotly>=5.0.0 in /usr/local/lib/python3.9/dist-packages (from dash) (5.13.1)\n",
            "Requirement already satisfied: dash-html-components==2.0.0 in /usr/local/lib/python3.9/dist-packages (from dash) (2.0.0)\n",
            "Requirement already satisfied: dash-table==5.0.0 in /usr/local/lib/python3.9/dist-packages (from dash) (5.0.0)\n",
            "Requirement already satisfied: ipykernel in /usr/local/lib/python3.9/dist-packages (from jupyter_dash) (5.3.4)\n",
            "Requirement already satisfied: requests in /usr/local/lib/python3.9/dist-packages (from jupyter_dash) (2.27.1)\n",
            "Requirement already satisfied: nest-asyncio in /usr/local/lib/python3.9/dist-packages (from jupyter_dash) (1.5.6)\n",
            "Requirement already satisfied: retrying in /usr/local/lib/python3.9/dist-packages (from jupyter_dash) (1.3.4)\n",
            "Requirement already satisfied: ipython in /usr/local/lib/python3.9/dist-packages (from jupyter_dash) (7.9.0)\n",
            "Requirement already satisfied: ansi2html in /usr/local/lib/python3.9/dist-packages (from jupyter_dash) (1.8.0)\n",
            "Requirement already satisfied: importlib-metadata>=3.6.0 in /usr/local/lib/python3.9/dist-packages (from Flask>=1.0.4->dash) (6.0.0)\n",
            "Requirement already satisfied: Jinja2>=3.0 in /usr/local/lib/python3.9/dist-packages (from Flask>=1.0.4->dash) (3.1.2)\n",
            "Requirement already satisfied: Werkzeug>=2.2.2 in /usr/local/lib/python3.9/dist-packages (from Flask>=1.0.4->dash) (2.2.3)\n",
            "Requirement already satisfied: itsdangerous>=2.0 in /usr/local/lib/python3.9/dist-packages (from Flask>=1.0.4->dash) (2.1.2)\n",
            "Requirement already satisfied: click>=8.0 in /usr/local/lib/python3.9/dist-packages (from Flask>=1.0.4->dash) (8.1.3)\n",
            "Requirement already satisfied: tenacity>=6.2.0 in /usr/local/lib/python3.9/dist-packages (from plotly>=5.0.0->dash) (8.2.2)\n",
            "Requirement already satisfied: traitlets>=4.1.0 in /usr/local/lib/python3.9/dist-packages (from ipykernel->jupyter_dash) (5.7.1)\n",
            "Requirement already satisfied: tornado>=4.2 in /usr/local/lib/python3.9/dist-packages (from ipykernel->jupyter_dash) (6.2)\n",
            "Requirement already satisfied: jupyter-client in /usr/local/lib/python3.9/dist-packages (from ipykernel->jupyter_dash) (6.1.12)\n",
            "Requirement already satisfied: decorator in /usr/local/lib/python3.9/dist-packages (from ipython->jupyter_dash) (4.4.2)\n",
            "Requirement already satisfied: pickleshare in /usr/local/lib/python3.9/dist-packages (from ipython->jupyter_dash) (0.7.5)\n",
            "Requirement already satisfied: prompt-toolkit<2.1.0,>=2.0.0 in /usr/local/lib/python3.9/dist-packages (from ipython->jupyter_dash) (2.0.10)\n",
            "Requirement already satisfied: setuptools>=18.5 in /usr/local/lib/python3.9/dist-packages (from ipython->jupyter_dash) (63.4.3)\n",
            "Requirement already satisfied: pygments in /usr/local/lib/python3.9/dist-packages (from ipython->jupyter_dash) (2.6.1)\n",
            "Requirement already satisfied: backcall in /usr/local/lib/python3.9/dist-packages (from ipython->jupyter_dash) (0.2.0)\n",
            "Requirement already satisfied: jedi>=0.10 in /usr/local/lib/python3.9/dist-packages (from ipython->jupyter_dash) (0.18.2)\n",
            "Requirement already satisfied: pexpect in /usr/local/lib/python3.9/dist-packages (from ipython->jupyter_dash) (4.8.0)\n",
            "Requirement already satisfied: urllib3<1.27,>=1.21.1 in /usr/local/lib/python3.9/dist-packages (from requests->jupyter_dash) (1.26.15)\n",
            "Requirement already satisfied: certifi>=2017.4.17 in /usr/local/lib/python3.9/dist-packages (from requests->jupyter_dash) (2022.12.7)\n",
            "Requirement already satisfied: charset-normalizer~=2.0.0 in /usr/local/lib/python3.9/dist-packages (from requests->jupyter_dash) (2.0.12)\n",
            "Requirement already satisfied: idna<4,>=2.5 in /usr/local/lib/python3.9/dist-packages (from requests->jupyter_dash) (3.4)\n",
            "Requirement already satisfied: six>=1.7.0 in /usr/local/lib/python3.9/dist-packages (from retrying->jupyter_dash) (1.15.0)\n",
            "Requirement already satisfied: zipp>=0.5 in /usr/local/lib/python3.9/dist-packages (from importlib-metadata>=3.6.0->Flask>=1.0.4->dash) (3.15.0)\n",
            "Requirement already satisfied: parso<0.9.0,>=0.8.0 in /usr/local/lib/python3.9/dist-packages (from jedi>=0.10->ipython->jupyter_dash) (0.8.3)\n",
            "Requirement already satisfied: MarkupSafe>=2.0 in /usr/local/lib/python3.9/dist-packages (from Jinja2>=3.0->Flask>=1.0.4->dash) (2.1.2)\n",
            "Requirement already satisfied: wcwidth in /usr/local/lib/python3.9/dist-packages (from prompt-toolkit<2.1.0,>=2.0.0->ipython->jupyter_dash) (0.2.6)\n",
            "Requirement already satisfied: jupyter-core>=4.6.0 in /usr/local/lib/python3.9/dist-packages (from jupyter-client->ipykernel->jupyter_dash) (5.3.0)\n",
            "Requirement already satisfied: python-dateutil>=2.1 in /usr/local/lib/python3.9/dist-packages (from jupyter-client->ipykernel->jupyter_dash) (2.8.2)\n",
            "Requirement already satisfied: pyzmq>=13 in /usr/local/lib/python3.9/dist-packages (from jupyter-client->ipykernel->jupyter_dash) (23.2.1)\n",
            "Requirement already satisfied: ptyprocess>=0.5 in /usr/local/lib/python3.9/dist-packages (from pexpect->ipython->jupyter_dash) (0.7.0)\n",
            "Requirement already satisfied: platformdirs>=2.5 in /usr/local/lib/python3.9/dist-packages (from jupyter-core>=4.6.0->jupyter-client->ipykernel->jupyter_dash) (3.1.1)\n"
          ]
        }
      ]
    },
    {
      "cell_type": "code",
      "source": [
        "import dash #gerencia nosso Dashboard, criando o servidor e layout\n",
        "from dash import dcc #seleção de data, dropdowns\n",
        "from dash import html #permite inserção de textos, divs, caixas em html\n",
        "from dash.dependencies import Input, Output \n",
        "import dash_bootstrap_components as dbc\n",
        "from jupyter_dash import JupyterDash\n",
        "\n",
        "import plotly.express as px #criação de gráficos mais fáceis de alto nível de forma básica\n",
        "import plotly.graph_objects as go #permitem maior controle que o px\n",
        "\n",
        "import numpy as np\n",
        "import pandas as pd\n",
        "import json"
      ],
      "metadata": {
        "id": "h_blWnVCZQMA"
      },
      "execution_count": 5,
      "outputs": []
    },
    {
      "cell_type": "markdown",
      "source": [
        "Os dados disponibilizados pelo governo estão contidos em partes, 2 partes por ano, para cada semestre. Para juntá-los é necessário o uso do concat, do pandas, conseguindo assim a união de todos em um só.\n",
        "\n"
      ],
      "metadata": {
        "id": "xETggua8dncu"
      }
    },
    {
      "cell_type": "code",
      "source": [
        "df1 = pd.read_csv(\"2020_1.csv\", sep=';')\n",
        "df2 = pd.read_csv(\"2020_2.csv\", sep=';')\n",
        "df3 = pd.read_csv(\"2021_1.csv\", sep=';')\n",
        "df4 = pd.read_csv(\"2021_2.csv\", sep=';')\n",
        "df5 = pd.read_csv(\"2022_1.csv\", sep=';')\n",
        "df6 = pd.read_csv(\"2022_2.csv\", sep=';')\n",
        "df7 = pd.read_csv(\"2023_1.csv\", sep=';')\n",
        "\n",
        "# Combine todos os dataframes em um único dataframe\n",
        "df = pd.concat([df1, df2, df3, df4, df5, df6, df7], ignore_index=True)"
      ],
      "metadata": {
        "id": "PKH5qK5fvqZ-"
      },
      "execution_count": 6,
      "outputs": []
    },
    {
      "cell_type": "markdown",
      "source": [
        "O nosso maior interesse é obter informações sobre o país inteiro e de cada estado, além de reduzir os dados em uso. Para isso iremos filtrar nossa tabela principal, extraindo informações nacionais e estaduais, através de uma lógica. Primeiramente vamos extrair os dados estaduais, para isso pegamos do dataframe original todas as colunas que possuem \"estado\" não NA (~.isna()) e \"codmun\" NA (.isna()). Depois vamos pegar informações nacionais apenas, onde a coluna \"regiao\" é \"Brasil\", que automaticamente não carrega informações estaduais e municipais. Para simplificar nossa vida vamos criar um arquivo csv dos novos dataframes criados."
      ],
      "metadata": {
        "id": "6XGy0VwCvtre"
      }
    },
    {
      "cell_type": "code",
      "source": [
        "# Queremos só informação dos estados\n",
        "df_estados = df[(~df[\"estado\"].isna()) & (df[\"codmun\"].isna())]\n",
        "\n",
        "# Queremos só informação do brasil\n",
        "df_brasil = df[df['regiao'] == 'Brasil']\n",
        "\n",
        "# Criar um arquivo para esses dados\n",
        "df_estados.to_csv(\"df_estados.csv\")\n",
        "df_brasil.to_csv(\"df_brasil.csv\")"
      ],
      "metadata": {
        "id": "Exc4nZSBZQGQ"
      },
      "execution_count": 7,
      "outputs": []
    },
    {
      "cell_type": "code",
      "source": [
        "df_estados = pd.read_csv('df_estados.csv')\n",
        "df_brasil = pd.read_csv('df_brasil.csv')"
      ],
      "metadata": {
        "id": "j8K5QJ4lE8yl"
      },
      "execution_count": 8,
      "outputs": []
    },
    {
      "cell_type": "markdown",
      "source": [
        "Agora vamos definir nossas variáveis padrões, só para conseguir definir inicialmente nossos gráfico e algumas funções. Elas serão:\n",
        "- df_estados_: informações estaduais do dia 10/05/2020, para o gráfico mapa\n",
        "\n",
        "- df_data: informações estaduais do RJ, para o graph_objects\n",
        "\n",
        "- date: dia 10/05/2020\n",
        "\n",
        "- location: estado de Roraima\n",
        "\n",
        "- CENTER_LAT e CENTER_LON: coordenadas para centrar nosso mapa na tela"
      ],
      "metadata": {
        "id": "4ukJNp6UxNJt"
      }
    },
    {
      "cell_type": "code",
      "source": [
        "df_estados_ = df_estados[df_estados[\"data\"] == '2020-05-10']\n",
        "df_data = df_estados[df_estados[\"estado\"]==\"RJ\"] \n",
        "date = \"2020-05-10\"\n",
        "location = \"RO\"\n",
        "CENTER_LAT = -14.272572694355336\n",
        "CENTER_LON = -51.25567404158474"
      ],
      "metadata": {
        "id": "CFCregVg16Va"
      },
      "execution_count": 9,
      "outputs": []
    },
    {
      "cell_type": "code",
      "source": [
        "select_columns = {\"casosAcumulado\": \"Casos Acumulados\",\n",
        "                  \"casosNovos\": \"Novos Casos\",\n",
        "                  \"obitosAcumulado\": \"Óbitos Totais\",\n",
        "                  \"obitosNovos\": \"Obitos por dia\"}"
      ],
      "metadata": {
        "id": "Okz6qB42PtYB"
      },
      "execution_count": 10,
      "outputs": []
    },
    {
      "cell_type": "markdown",
      "source": [
        "# Arquivo geo.json\n",
        "\n",
        "Usado para delimitar territórios estaduais do Brasil. Ele contém as informações de latitude e longitude de cada divisa dos estados. "
      ],
      "metadata": {
        "id": "0CMUU-R4r0ks"
      }
    },
    {
      "cell_type": "code",
      "source": [
        "estados_brasil = json.load(open(\"brazil_geo.json\",'r'))"
      ],
      "metadata": {
        "id": "D5wiatI_sEme"
      },
      "execution_count": 11,
      "outputs": []
    },
    {
      "cell_type": "code",
      "source": [
        "estados_brasil.keys()"
      ],
      "metadata": {
        "colab": {
          "base_uri": "https://localhost:8080/"
        },
        "id": "dW8fCkFItEy1",
        "outputId": "340b8617-e6c3-4978-a65a-6335a8dd3f07"
      },
      "execution_count": 12,
      "outputs": [
        {
          "output_type": "execute_result",
          "data": {
            "text/plain": [
              "dict_keys(['type', 'features'])"
            ]
          },
          "metadata": {},
          "execution_count": 12
        }
      ]
    },
    {
      "cell_type": "code",
      "source": [
        "estados_brasil[\"type\"]"
      ],
      "metadata": {
        "colab": {
          "base_uri": "https://localhost:8080/",
          "height": 36
        },
        "id": "36dBFBZNtPGq",
        "outputId": "c5c699fd-5a11-4147-b599-4c02ebda2325"
      },
      "execution_count": 13,
      "outputs": [
        {
          "output_type": "execute_result",
          "data": {
            "text/plain": [
              "'FeatureCollection'"
            ],
            "application/vnd.google.colaboratory.intrinsic+json": {
              "type": "string"
            }
          },
          "metadata": {},
          "execution_count": 13
        }
      ]
    },
    {
      "cell_type": "code",
      "source": [
        "estados_brasil[\"features\"][0].keys()"
      ],
      "metadata": {
        "colab": {
          "base_uri": "https://localhost:8080/"
        },
        "id": "YcE0Jm_dtSfA",
        "outputId": "c9743236-14e0-4a7d-bacf-80a6c4914aa1"
      },
      "execution_count": 14,
      "outputs": [
        {
          "output_type": "execute_result",
          "data": {
            "text/plain": [
              "dict_keys(['type', 'id', 'properties', 'geometry'])"
            ]
          },
          "metadata": {},
          "execution_count": 14
        }
      ]
    },
    {
      "cell_type": "markdown",
      "source": [
        "É uma lista de dicionários com chaves type, id, properties e geometry\n",
        "\n",
        "O id é uma chave que será usada para criar o mapa, que irá casar essas informações territoriais às informações dos dados, havendo valores em comuns entre os dois, colorindo os estados a partir das informações.\n",
        "\n",
        "A geometria é composta por pontos de latitude e longitude.\n"
      ],
      "metadata": {
        "id": "Xps22BNstoR3"
      }
    },
    {
      "cell_type": "markdown",
      "source": [
        "# Dashboard\n",
        "\n",
        "Ele estará contido no app\n",
        "\n",
        "Iremos usar o external_stylesheets, para trazer uma estrutura de título, cores e fontes prontas, melhor do que a padrão. Vamos usar o tema CYBORG"
      ],
      "metadata": {
        "id": "Hf2LF_jduWYt"
      }
    },
    {
      "cell_type": "code",
      "source": [
        "app = JupyterDash(__name__, external_stylesheets = [dbc.themes.CYBORG])"
      ],
      "metadata": {
        "id": "wQuXFUNWuYgl"
      },
      "execution_count": 15,
      "outputs": []
    },
    {
      "cell_type": "markdown",
      "source": [
        "## Figura\n",
        "\n",
        "Vai ter nosso gráfico do mapa onde será colocada no dashboard através de uma figure\n",
        "\n",
        "choropleth tem divisões territoriais\n",
        "\n",
        "o mapblox cria gráficos com configurações modernas, podendo inserir diversas informações bacanas.\n",
        "\n",
        "precisamos passar o dataframe, coluna com informações que irá casar com o id do geo.json, pintando através de color a coluna do dataframe, o center será a latitude e longitude que o gráfico estará centrado (para isso iremos usar uma coordenada centrada no Brasil), o arquivo geo.json, a paleta de cores, opacidade e finalmente o hover_data, que é um dicionário com colunas que serão apresentadas ao passar o cursor do mouse nos estados."
      ],
      "metadata": {
        "id": "JTNOEMyTyuG_"
      }
    },
    {
      "cell_type": "markdown",
      "source": [
        "##Choropleth_mapbox\n",
        "\n",
        "Ele vai receber as seguintes especificações:\n",
        "\n",
        "- df: data frame que será usado para o gráfico. Para o mapa escolhemos o df_estados, que possui informações de cada estado. \n",
        "\n",
        "- geojson: apresenta a geometria de uma região geográfica no mapa, onde será preenchida por cores. No nosso caso, no Brasil cada estado será colorido, então vamos fornecer o arquivo geojson dessas delimitações. \n",
        "\n",
        "- locations: qual coluna com informações geográficas será usada para associar os limites geográficos das regiões do mapa. Iremos usar a coluna \"estado\", pois cada estado será colorido diferentemente.\n",
        "  \n",
        "- color: qual coluna atribuirá cor ao location. Cada estado será colorido de acordo com uma coluna de dados, que será a de \"casosNovos\"\n",
        "\n",
        "- hover_data: lista de colunas com valores True e False, que permite adicionar informações adicionais aos dados do mapa quando o cursor do mouse passa por cima de uma determinada área. Queremos que ao passar o mouse, seja mostrado a quantidade de casos acumulados, novos casos, obitos e obitos diário.\n",
        "\n",
        "- color_continuous_scale: escala de cores usada nas regiões geográficas do mapa. Usaremos o \"Redor\", que mostrará em diferentes tons de vermelho os dados variados nos estados do país.\n",
        "\n",
        "- opacity: transparência das regiões geográficas. Usaremos um valor não muito alto para que seja possível enxergar o conteúdo de cada estado.\n",
        "\n",
        "- zoom: nível de zoom do mapa, varia de 0 a 20. Um valor agradável é 4, suficiente para mostrar o país inteiro.\n",
        "\n",
        "- center: ponto central do mapa, composto por latitude e longitude, onde é possível definir o foco para uma visualização agradável.\n",
        "\n",
        "O layout será atualizado:\n",
        "\n",
        "- paper_bgcolor: a cor de fundo da área onde o conteúdo do gráfico está. A paleta utilizada é uma com cor escura, minimalista e discreta, causando contraste com a cor avermelhada.\n",
        "\n",
        "- autosize: preenchimento automático do gráfico de acordo com o espaço na tela para True.\n",
        "\n",
        "- margin: espaço vazio entre as bordas do gráfico e o conteúdo dele.\n",
        "\n",
        "- showlegend: exibir legenda, True para sim e False para não.\n",
        "\n",
        "- mapbox_style: é o estilo do mapa. Usamos o carto-darkmatter, para um estilo escuro da cartografia mundial."
      ],
      "metadata": {
        "id": "mEkPbb7N4zm_"
      }
    },
    {
      "cell_type": "markdown",
      "source": [
        "##Scatter\n",
        "\n",
        "Ele vai receber as seguintes especificações:\n",
        "\n",
        "- layout: Vamos usar o plotly_dark, que permite paletas de cores escuras ao gráfico, destacando elementos visuais e facilitando a observação.\n",
        "\n",
        "- x e y: Eixo x e y do gráfico. O x será o tempo e y outros dados.\n",
        "\n",
        "O layout será atualizado:\n",
        "\n",
        "- paper_bgcolor: cor de fundo da área externa do gráfico. Usaremos a mesma.\n",
        "\n",
        "- plot_bgcolor: cor de fundo da área do gráfico.Usaremos a mesma.\n",
        "\n",
        "- autosize: preenchimento automático do gráfico de acordo com o espaço na tela para True.\n",
        "\n",
        "- margin: espaço vazio entre as bordas do gráfico e o conteúdo dele"
      ],
      "metadata": {
        "id": "qkXSXVx55fq1"
      }
    },
    {
      "cell_type": "code",
      "source": [
        "#criar gráfico de mapa\n",
        "fig = px.choropleth_mapbox(df_estados_, geojson=estados_brasil, locations='estado', color = 'casosNovos',\n",
        "                           hover_data = {\"casosAcumulado\": True, \"casosNovos\":True, \"obitosNovos\":True, \"estado\":True},\n",
        "                           color_continuous_scale='Redor', opacity=0.4, zoom=4, \n",
        "                           center = {\"lat\": -16.95, \"lon\": -47.78})\n",
        "\n",
        "fig.update_layout(\n",
        "    paper_bgcolor = \"#242424\", #paleta de cores\n",
        "    autosize=True, #gráfico preenche automaticamente o tamanho na caixa contida\n",
        "    margin = go.Margin(l=0, r=0, t=0, b=0), \n",
        "    showlegend = False,\n",
        "    mapbox_style='carto-darkmatter'\n",
        ")\n",
        "\n",
        "#criar gráfico de linha\n",
        "\n",
        "fig2 = go.Figure(layout={'template':'plotly_dark'})\n",
        "fig2.add_trace(go.Scatter(x=df_data[\"data\"], y=df_data['casosAcumulado']))\n",
        "fig2.update_layout(\n",
        "    paper_bgcolor='#242424',\n",
        "    plot_bgcolor='#242424',\n",
        "    autosize = True,\n",
        "    margin = dict(l=10,r=10,t=10,b=10) #queremos uma borda entre a fig2\n",
        ")"
      ],
      "metadata": {
        "id": "E3evqXhjvOEU",
        "colab": {
          "base_uri": "https://localhost:8080/",
          "height": 663
        },
        "outputId": "8862e3dc-8e9f-465a-86ac-cf07153397f8"
      },
      "execution_count": 16,
      "outputs": [
        {
          "output_type": "stream",
          "name": "stderr",
          "text": [
            "/usr/local/lib/python3.9/dist-packages/plotly/graph_objs/_deprecations.py:405: DeprecationWarning:\n",
            "\n",
            "plotly.graph_objs.Margin is deprecated.\n",
            "Please replace it with one of the following more specific types\n",
            "  - plotly.graph_objs.layout.Margin\n",
            "\n",
            "\n"
          ]
        },
        {
          "output_type": "display_data",
          "data": {
            "text/html": [
              "<html>\n",
              "<head><meta charset=\"utf-8\" /></head>\n",
              "<body>\n",
              "    <div>            <script src=\"https://cdnjs.cloudflare.com/ajax/libs/mathjax/2.7.5/MathJax.js?config=TeX-AMS-MML_SVG\"></script><script type=\"text/javascript\">if (window.MathJax && window.MathJax.Hub && window.MathJax.Hub.Config) {window.MathJax.Hub.Config({SVG: {font: \"STIX-Web\"}});}</script>                <script type=\"text/javascript\">window.PlotlyConfig = {MathJaxConfig: 'local'};</script>\n",
              "        <script src=\"https://cdn.plot.ly/plotly-2.18.2.min.js\"></script>                <div id=\"608d5c1f-ae77-441f-a8ad-e8bc6a34f2d0\" class=\"plotly-graph-div\" style=\"height:525px; width:100%;\"></div>            <script type=\"text/javascript\">                                    window.PLOTLYENV=window.PLOTLYENV || {};                                    if (document.getElementById(\"608d5c1f-ae77-441f-a8ad-e8bc6a34f2d0\")) {                    Plotly.newPlot(                        \"608d5c1f-ae77-441f-a8ad-e8bc6a34f2d0\",                        [{\"x\":[\"2020-02-25\",\"2020-02-26\",\"2020-02-27\",\"2020-02-28\",\"2020-02-29\",\"2020-03-01\",\"2020-03-02\",\"2020-03-03\",\"2020-03-04\",\"2020-03-05\",\"2020-03-06\",\"2020-03-07\",\"2020-03-08\",\"2020-03-09\",\"2020-03-10\",\"2020-03-11\",\"2020-03-12\",\"2020-03-13\",\"2020-03-14\",\"2020-03-15\",\"2020-03-16\",\"2020-03-17\",\"2020-03-18\",\"2020-03-19\",\"2020-03-20\",\"2020-03-21\",\"2020-03-22\",\"2020-03-23\",\"2020-03-24\",\"2020-03-25\",\"2020-03-26\",\"2020-03-27\",\"2020-03-28\",\"2020-03-29\",\"2020-03-30\",\"2020-03-31\",\"2020-04-01\",\"2020-04-02\",\"2020-04-03\",\"2020-04-04\",\"2020-04-05\",\"2020-04-06\",\"2020-04-07\",\"2020-04-08\",\"2020-04-09\",\"2020-04-10\",\"2020-04-11\",\"2020-04-12\",\"2020-04-13\",\"2020-04-14\",\"2020-04-15\",\"2020-04-16\",\"2020-04-17\",\"2020-04-18\",\"2020-04-19\",\"2020-04-20\",\"2020-04-21\",\"2020-04-22\",\"2020-04-23\",\"2020-04-24\",\"2020-04-25\",\"2020-04-26\",\"2020-04-27\",\"2020-04-28\",\"2020-04-29\",\"2020-04-30\",\"2020-05-01\",\"2020-05-02\",\"2020-05-03\",\"2020-05-04\",\"2020-05-05\",\"2020-05-06\",\"2020-05-07\",\"2020-05-08\",\"2020-05-09\",\"2020-05-10\",\"2020-05-11\",\"2020-05-12\",\"2020-05-13\",\"2020-05-14\",\"2020-05-15\",\"2020-05-16\",\"2020-05-17\",\"2020-05-18\",\"2020-05-19\",\"2020-05-20\",\"2020-05-21\",\"2020-05-22\",\"2020-05-23\",\"2020-05-24\",\"2020-05-25\",\"2020-05-26\",\"2020-05-27\",\"2020-05-28\",\"2020-05-29\",\"2020-05-30\",\"2020-05-31\",\"2020-06-01\",\"2020-06-02\",\"2020-06-03\",\"2020-06-04\",\"2020-06-05\",\"2020-06-06\",\"2020-06-07\",\"2020-06-08\",\"2020-06-09\",\"2020-06-10\",\"2020-06-11\",\"2020-06-12\",\"2020-06-13\",\"2020-06-14\",\"2020-06-15\",\"2020-06-16\",\"2020-06-17\",\"2020-06-18\",\"2020-06-19\",\"2020-06-20\",\"2020-06-21\",\"2020-06-22\",\"2020-06-23\",\"2020-06-24\",\"2020-06-25\",\"2020-06-26\",\"2020-06-27\",\"2020-06-28\",\"2020-06-29\",\"2020-06-30\",\"2020-07-01\",\"2020-07-02\",\"2020-07-03\",\"2020-07-04\",\"2020-07-05\",\"2020-07-06\",\"2020-07-07\",\"2020-07-08\",\"2020-07-09\",\"2020-07-10\",\"2020-07-11\",\"2020-07-12\",\"2020-07-13\",\"2020-07-14\",\"2020-07-15\",\"2020-07-16\",\"2020-07-17\",\"2020-07-18\",\"2020-07-19\",\"2020-07-20\",\"2020-07-21\",\"2020-07-22\",\"2020-07-23\",\"2020-07-24\",\"2020-07-25\",\"2020-07-26\",\"2020-07-27\",\"2020-07-28\",\"2020-07-29\",\"2020-07-30\",\"2020-07-31\",\"2020-08-01\",\"2020-08-02\",\"2020-08-03\",\"2020-08-04\",\"2020-08-05\",\"2020-08-06\",\"2020-08-07\",\"2020-08-08\",\"2020-08-09\",\"2020-08-10\",\"2020-08-11\",\"2020-08-12\",\"2020-08-13\",\"2020-08-14\",\"2020-08-15\",\"2020-08-16\",\"2020-08-17\",\"2020-08-18\",\"2020-08-19\",\"2020-08-20\",\"2020-08-21\",\"2020-08-22\",\"2020-08-23\",\"2020-08-24\",\"2020-08-25\",\"2020-08-26\",\"2020-08-27\",\"2020-08-28\",\"2020-08-29\",\"2020-08-30\",\"2020-08-31\",\"2020-09-01\",\"2020-09-02\",\"2020-09-03\",\"2020-09-04\",\"2020-09-05\",\"2020-09-06\",\"2020-09-07\",\"2020-09-08\",\"2020-09-09\",\"2020-09-10\",\"2020-09-11\",\"2020-09-12\",\"2020-09-13\",\"2020-09-14\",\"2020-09-15\",\"2020-09-16\",\"2020-09-17\",\"2020-09-18\",\"2020-09-19\",\"2020-09-20\",\"2020-09-21\",\"2020-09-22\",\"2020-09-23\",\"2020-09-24\",\"2020-09-25\",\"2020-09-26\",\"2020-09-27\",\"2020-09-28\",\"2020-09-29\",\"2020-09-30\",\"2020-10-01\",\"2020-10-02\",\"2020-10-03\",\"2020-10-04\",\"2020-10-05\",\"2020-10-06\",\"2020-10-07\",\"2020-10-08\",\"2020-10-09\",\"2020-10-10\",\"2020-10-11\",\"2020-10-12\",\"2020-10-13\",\"2020-10-14\",\"2020-10-15\",\"2020-10-16\",\"2020-10-17\",\"2020-10-18\",\"2020-10-19\",\"2020-10-20\",\"2020-10-21\",\"2020-10-22\",\"2020-10-23\",\"2020-10-24\",\"2020-10-25\",\"2020-10-26\",\"2020-10-27\",\"2020-10-28\",\"2020-10-29\",\"2020-10-30\",\"2020-10-31\",\"2020-11-01\",\"2020-11-02\",\"2020-11-03\",\"2020-11-04\",\"2020-11-05\",\"2020-11-06\",\"2020-11-07\",\"2020-11-08\",\"2020-11-09\",\"2020-11-10\",\"2020-11-11\",\"2020-11-12\",\"2020-11-13\",\"2020-11-14\",\"2020-11-15\",\"2020-11-16\",\"2020-11-17\",\"2020-11-18\",\"2020-11-19\",\"2020-11-20\",\"2020-11-21\",\"2020-11-22\",\"2020-11-23\",\"2020-11-24\",\"2020-11-25\",\"2020-11-26\",\"2020-11-27\",\"2020-11-28\",\"2020-11-29\",\"2020-11-30\",\"2020-12-01\",\"2020-12-02\",\"2020-12-03\",\"2020-12-04\",\"2020-12-05\",\"2020-12-06\",\"2020-12-07\",\"2020-12-08\",\"2020-12-09\",\"2020-12-10\",\"2020-12-11\",\"2020-12-12\",\"2020-12-13\",\"2020-12-14\",\"2020-12-15\",\"2020-12-16\",\"2020-12-17\",\"2020-12-18\",\"2020-12-19\",\"2020-12-20\",\"2020-12-21\",\"2020-12-22\",\"2020-12-23\",\"2020-12-24\",\"2020-12-25\",\"2020-12-26\",\"2020-12-27\",\"2020-12-28\",\"2020-12-29\",\"2020-12-30\",\"2020-12-31\",\"2021-01-01\",\"2021-01-02\",\"2021-01-03\",\"2021-01-04\",\"2021-01-05\",\"2021-01-06\",\"2021-01-07\",\"2021-01-08\",\"2021-01-09\",\"2021-01-10\",\"2021-01-11\",\"2021-01-12\",\"2021-01-13\",\"2021-01-14\",\"2021-01-15\",\"2021-01-16\",\"2021-01-17\",\"2021-01-18\",\"2021-01-19\",\"2021-01-20\",\"2021-01-21\",\"2021-01-22\",\"2021-01-23\",\"2021-01-24\",\"2021-01-25\",\"2021-01-26\",\"2021-01-27\",\"2021-01-28\",\"2021-01-29\",\"2021-01-30\",\"2021-01-31\",\"2021-02-01\",\"2021-02-02\",\"2021-02-03\",\"2021-02-04\",\"2021-02-05\",\"2021-02-06\",\"2021-02-07\",\"2021-02-08\",\"2021-02-09\",\"2021-02-10\",\"2021-02-11\",\"2021-02-12\",\"2021-02-13\",\"2021-02-14\",\"2021-02-15\",\"2021-02-16\",\"2021-02-17\",\"2021-02-18\",\"2021-02-19\",\"2021-02-20\",\"2021-02-21\",\"2021-02-22\",\"2021-02-23\",\"2021-02-24\",\"2021-02-25\",\"2021-02-26\",\"2021-02-27\",\"2021-02-28\",\"2021-03-01\",\"2021-03-02\",\"2021-03-03\",\"2021-03-04\",\"2021-03-05\",\"2021-03-06\",\"2021-03-07\",\"2021-03-08\",\"2021-03-09\",\"2021-03-10\",\"2021-03-11\",\"2021-03-12\",\"2021-03-13\",\"2021-03-14\",\"2021-03-15\",\"2021-03-16\",\"2021-03-17\",\"2021-03-18\",\"2021-03-19\",\"2021-03-20\",\"2021-03-21\",\"2021-03-22\",\"2021-03-23\",\"2021-03-24\",\"2021-03-25\",\"2021-03-26\",\"2021-03-27\",\"2021-03-28\",\"2021-03-29\",\"2021-03-30\",\"2021-03-31\",\"2021-04-01\",\"2021-04-02\",\"2021-04-03\",\"2021-04-04\",\"2021-04-05\",\"2021-04-06\",\"2021-04-07\",\"2021-04-08\",\"2021-04-09\",\"2021-04-10\",\"2021-04-11\",\"2021-04-12\",\"2021-04-13\",\"2021-04-14\",\"2021-04-15\",\"2021-04-16\",\"2021-04-17\",\"2021-04-18\",\"2021-04-19\",\"2021-04-20\",\"2021-04-21\",\"2021-04-22\",\"2021-04-23\",\"2021-04-24\",\"2021-04-25\",\"2021-04-26\",\"2021-04-27\",\"2021-04-28\",\"2021-04-29\",\"2021-04-30\",\"2021-05-01\",\"2021-05-02\",\"2021-05-03\",\"2021-05-04\",\"2021-05-05\",\"2021-05-06\",\"2021-05-07\",\"2021-05-08\",\"2021-05-09\",\"2021-05-10\",\"2021-05-11\",\"2021-05-12\",\"2021-05-13\",\"2021-05-14\",\"2021-05-15\",\"2021-05-16\",\"2021-05-17\",\"2021-05-18\",\"2021-05-19\",\"2021-05-20\",\"2021-05-21\",\"2021-05-22\",\"2021-05-23\",\"2021-05-24\",\"2021-05-25\",\"2021-05-26\",\"2021-05-27\",\"2021-05-28\",\"2021-05-29\",\"2021-05-30\",\"2021-05-31\",\"2021-06-01\",\"2021-06-02\",\"2021-06-03\",\"2021-06-04\",\"2021-06-05\",\"2021-06-06\",\"2021-06-07\",\"2021-06-08\",\"2021-06-09\",\"2021-06-10\",\"2021-06-11\",\"2021-06-12\",\"2021-06-13\",\"2021-06-14\",\"2021-06-15\",\"2021-06-16\",\"2021-06-17\",\"2021-06-18\",\"2021-06-19\",\"2021-06-20\",\"2021-06-21\",\"2021-06-22\",\"2021-06-23\",\"2021-06-24\",\"2021-06-25\",\"2021-06-26\",\"2021-06-27\",\"2021-06-28\",\"2021-06-29\",\"2021-06-30\",\"2021-07-01\",\"2021-07-02\",\"2021-07-03\",\"2021-07-04\",\"2021-07-05\",\"2021-07-06\",\"2021-07-07\",\"2021-07-08\",\"2021-07-09\",\"2021-07-10\",\"2021-07-11\",\"2021-07-12\",\"2021-07-13\",\"2021-07-14\",\"2021-07-15\",\"2021-07-16\",\"2021-07-17\",\"2021-07-18\",\"2021-07-19\",\"2021-07-20\",\"2021-07-21\",\"2021-07-22\",\"2021-07-23\",\"2021-07-24\",\"2021-07-25\",\"2021-07-26\",\"2021-07-27\",\"2021-07-28\",\"2021-07-29\",\"2021-07-30\",\"2021-07-31\",\"2021-08-01\",\"2021-08-02\",\"2021-08-03\",\"2021-08-04\",\"2021-08-05\",\"2021-08-06\",\"2021-08-07\",\"2021-08-08\",\"2021-08-09\",\"2021-08-10\",\"2021-08-11\",\"2021-08-12\",\"2021-08-13\",\"2021-08-14\",\"2021-08-15\",\"2021-08-16\",\"2021-08-17\",\"2021-08-18\",\"2021-08-19\",\"2021-08-20\",\"2021-08-21\",\"2021-08-22\",\"2021-08-23\",\"2021-08-24\",\"2021-08-25\",\"2021-08-26\",\"2021-08-27\",\"2021-08-28\",\"2021-08-29\",\"2021-08-30\",\"2021-08-31\",\"2021-09-01\",\"2021-09-02\",\"2021-09-03\",\"2021-09-04\",\"2021-09-05\",\"2021-09-06\",\"2021-09-07\",\"2021-09-08\",\"2021-09-09\",\"2021-09-10\",\"2021-09-11\",\"2021-09-12\",\"2021-09-13\",\"2021-09-14\",\"2021-09-15\",\"2021-09-16\",\"2021-09-17\",\"2021-09-18\",\"2021-09-19\",\"2021-09-20\",\"2021-09-21\",\"2021-09-22\",\"2021-09-23\",\"2021-09-24\",\"2021-09-25\",\"2021-09-26\",\"2021-09-27\",\"2021-09-28\",\"2021-09-29\",\"2021-09-30\",\"2021-10-01\",\"2021-10-02\",\"2021-10-03\",\"2021-10-04\",\"2021-10-05\",\"2021-10-06\",\"2021-10-07\",\"2021-10-08\",\"2021-10-09\",\"2021-10-10\",\"2021-10-11\",\"2021-10-12\",\"2021-10-13\",\"2021-10-14\",\"2021-10-15\",\"2021-10-16\",\"2021-10-17\",\"2021-10-18\",\"2021-10-19\",\"2021-10-20\",\"2021-10-21\",\"2021-10-22\",\"2021-10-23\",\"2021-10-24\",\"2021-10-25\",\"2021-10-26\",\"2021-10-27\",\"2021-10-28\",\"2021-10-29\",\"2021-10-30\",\"2021-10-31\",\"2021-11-01\",\"2021-11-02\",\"2021-11-03\",\"2021-11-04\",\"2021-11-05\",\"2021-11-06\",\"2021-11-07\",\"2021-11-08\",\"2021-11-09\",\"2021-11-10\",\"2021-11-11\",\"2021-11-12\",\"2021-11-13\",\"2021-11-14\",\"2021-11-15\",\"2021-11-16\",\"2021-11-17\",\"2021-11-18\",\"2021-11-19\",\"2021-11-20\",\"2021-11-21\",\"2021-11-22\",\"2021-11-23\",\"2021-11-24\",\"2021-11-25\",\"2021-11-26\",\"2021-11-27\",\"2021-11-28\",\"2021-11-29\",\"2021-11-30\",\"2021-12-01\",\"2021-12-02\",\"2021-12-03\",\"2021-12-04\",\"2021-12-05\",\"2021-12-06\",\"2021-12-07\",\"2021-12-08\",\"2021-12-09\",\"2021-12-10\",\"2021-12-11\",\"2021-12-12\",\"2021-12-13\",\"2021-12-14\",\"2021-12-15\",\"2021-12-16\",\"2021-12-17\",\"2021-12-18\",\"2021-12-19\",\"2021-12-20\",\"2021-12-21\",\"2021-12-22\",\"2021-12-23\",\"2021-12-24\",\"2021-12-25\",\"2021-12-26\",\"2021-12-27\",\"2021-12-28\",\"2021-12-29\",\"2021-12-30\",\"2021-12-31\",\"2022-01-01\",\"2022-01-02\",\"2022-01-03\",\"2022-01-04\",\"2022-01-05\",\"2022-01-06\",\"2022-01-07\",\"2022-01-08\",\"2022-01-09\",\"2022-01-10\",\"2022-01-11\",\"2022-01-12\",\"2022-01-13\",\"2022-01-14\",\"2022-01-15\",\"2022-01-16\",\"2022-01-17\",\"2022-01-18\",\"2022-01-19\",\"2022-01-20\",\"2022-01-21\",\"2022-01-22\",\"2022-01-23\",\"2022-01-24\",\"2022-01-25\",\"2022-01-26\",\"2022-01-27\",\"2022-01-28\",\"2022-01-29\",\"2022-01-30\",\"2022-01-31\",\"2022-02-01\",\"2022-02-02\",\"2022-02-03\",\"2022-02-04\",\"2022-02-05\",\"2022-02-06\",\"2022-02-07\",\"2022-02-08\",\"2022-02-09\",\"2022-02-10\",\"2022-02-11\",\"2022-02-12\",\"2022-02-13\",\"2022-02-14\",\"2022-02-15\",\"2022-02-16\",\"2022-02-17\",\"2022-02-18\",\"2022-02-19\",\"2022-02-20\",\"2022-02-21\",\"2022-02-22\",\"2022-02-23\",\"2022-02-24\",\"2022-02-25\",\"2022-02-26\",\"2022-02-27\",\"2022-02-28\",\"2022-03-01\",\"2022-03-02\",\"2022-03-03\",\"2022-03-04\",\"2022-03-05\",\"2022-03-06\",\"2022-03-07\",\"2022-03-08\",\"2022-03-09\",\"2022-03-10\",\"2022-03-11\",\"2022-03-12\",\"2022-03-13\",\"2022-03-14\",\"2022-03-15\",\"2022-03-16\",\"2022-03-17\",\"2022-03-18\",\"2022-03-19\",\"2022-03-20\",\"2022-03-21\",\"2022-03-22\",\"2022-03-23\",\"2022-03-24\",\"2022-03-25\",\"2022-03-26\",\"2022-03-27\",\"2022-03-28\",\"2022-03-29\",\"2022-03-30\",\"2022-03-31\",\"2022-04-01\",\"2022-04-02\",\"2022-04-03\",\"2022-04-04\",\"2022-04-05\",\"2022-04-06\",\"2022-04-07\",\"2022-04-08\",\"2022-04-09\",\"2022-04-10\",\"2022-04-11\",\"2022-04-12\",\"2022-04-13\",\"2022-04-14\",\"2022-04-15\",\"2022-04-16\",\"2022-04-17\",\"2022-04-18\",\"2022-04-19\",\"2022-04-20\",\"2022-04-21\",\"2022-04-22\",\"2022-04-23\",\"2022-04-24\",\"2022-04-25\",\"2022-04-26\",\"2022-04-27\",\"2022-04-28\",\"2022-04-29\",\"2022-04-30\",\"2022-05-01\",\"2022-05-02\",\"2022-05-03\",\"2022-05-04\",\"2022-05-05\",\"2022-05-06\",\"2022-05-07\",\"2022-05-08\",\"2022-05-09\",\"2022-05-10\",\"2022-05-11\",\"2022-05-12\",\"2022-05-13\",\"2022-05-14\",\"2022-05-15\",\"2022-05-16\",\"2022-05-17\",\"2022-05-18\",\"2022-05-19\",\"2022-05-20\",\"2022-05-21\",\"2022-05-22\",\"2022-05-23\",\"2022-05-24\",\"2022-05-25\",\"2022-05-26\",\"2022-05-27\",\"2022-05-28\",\"2022-05-29\",\"2022-05-30\",\"2022-05-31\",\"2022-06-01\",\"2022-06-02\",\"2022-06-03\",\"2022-06-04\",\"2022-06-05\",\"2022-06-06\",\"2022-06-07\",\"2022-06-08\",\"2022-06-09\",\"2022-06-10\",\"2022-06-11\",\"2022-06-12\",\"2022-06-13\",\"2022-06-14\",\"2022-06-15\",\"2022-06-16\",\"2022-06-17\",\"2022-06-18\",\"2022-06-19\",\"2022-06-20\",\"2022-06-21\",\"2022-06-22\",\"2022-06-23\",\"2022-06-24\",\"2022-06-25\",\"2022-06-26\",\"2022-06-27\",\"2022-06-28\",\"2022-06-29\",\"2022-06-30\",\"2022-07-01\",\"2022-07-02\",\"2022-07-03\",\"2022-07-04\",\"2022-07-05\",\"2022-07-06\",\"2022-07-07\",\"2022-07-08\",\"2022-07-09\",\"2022-07-10\",\"2022-07-11\",\"2022-07-12\",\"2022-07-13\",\"2022-07-14\",\"2022-07-15\",\"2022-07-16\",\"2022-07-17\",\"2022-07-18\",\"2022-07-19\",\"2022-07-20\",\"2022-07-21\",\"2022-07-22\",\"2022-07-23\",\"2022-07-24\",\"2022-07-25\",\"2022-07-26\",\"2022-07-27\",\"2022-07-28\",\"2022-07-29\",\"2022-07-30\",\"2022-07-31\",\"2022-08-01\",\"2022-08-02\",\"2022-08-03\",\"2022-08-04\",\"2022-08-05\",\"2022-08-06\",\"2022-08-07\",\"2022-08-08\",\"2022-08-09\",\"2022-08-10\",\"2022-08-11\",\"2022-08-12\",\"2022-08-13\",\"2022-08-14\",\"2022-08-15\",\"2022-08-16\",\"2022-08-17\",\"2022-08-18\",\"2022-08-19\",\"2022-08-20\",\"2022-08-21\",\"2022-08-22\",\"2022-08-23\",\"2022-08-24\",\"2022-08-25\",\"2022-08-26\",\"2022-08-27\",\"2022-08-28\",\"2022-08-29\",\"2022-08-30\",\"2022-08-31\",\"2022-09-01\",\"2022-09-02\",\"2022-09-03\",\"2022-09-04\",\"2022-09-05\",\"2022-09-06\",\"2022-09-07\",\"2022-09-08\",\"2022-09-09\",\"2022-09-10\",\"2022-09-11\",\"2022-09-12\",\"2022-09-13\",\"2022-09-14\",\"2022-09-15\",\"2022-09-16\",\"2022-09-17\",\"2022-09-18\",\"2022-09-19\",\"2022-09-20\",\"2022-09-21\",\"2022-09-22\",\"2022-09-23\",\"2022-09-24\",\"2022-09-25\",\"2022-09-26\",\"2022-09-27\",\"2022-09-28\",\"2022-09-29\",\"2022-09-30\",\"2022-10-01\",\"2022-10-02\",\"2022-10-03\",\"2022-10-04\",\"2022-10-05\",\"2022-10-06\",\"2022-10-07\",\"2022-10-08\",\"2022-10-09\",\"2022-10-10\",\"2022-10-11\",\"2022-10-12\",\"2022-10-13\",\"2022-10-14\",\"2022-10-15\",\"2022-10-16\",\"2022-10-17\",\"2022-10-18\",\"2022-10-19\",\"2022-10-20\",\"2022-10-21\",\"2022-10-22\",\"2022-10-23\",\"2022-10-24\",\"2022-10-25\",\"2022-10-26\",\"2022-10-27\",\"2022-10-28\",\"2022-10-29\",\"2022-10-30\",\"2022-10-31\",\"2022-11-01\",\"2022-11-02\",\"2022-11-03\",\"2022-11-04\",\"2022-11-05\",\"2022-11-06\",\"2022-11-07\",\"2022-11-08\",\"2022-11-09\",\"2022-11-10\",\"2022-11-11\",\"2022-11-12\",\"2022-11-13\",\"2022-11-14\",\"2022-11-15\",\"2022-11-16\",\"2022-11-17\",\"2022-11-18\",\"2022-11-19\",\"2022-11-20\",\"2022-11-21\",\"2022-11-22\",\"2022-11-23\",\"2022-11-24\",\"2022-11-25\",\"2022-11-26\",\"2022-11-27\",\"2022-11-28\",\"2022-11-29\",\"2022-11-30\",\"2022-12-01\",\"2022-12-02\",\"2022-12-03\",\"2022-12-04\",\"2022-12-05\",\"2022-12-06\",\"2022-12-07\",\"2022-12-08\",\"2022-12-09\",\"2022-12-10\",\"2022-12-11\",\"2022-12-12\",\"2022-12-13\",\"2022-12-14\",\"2022-12-15\",\"2022-12-16\",\"2022-12-17\",\"2022-12-18\",\"2022-12-19\",\"2022-12-20\",\"2022-12-21\",\"2022-12-22\",\"2022-12-23\",\"2022-12-24\",\"2022-12-25\",\"2022-12-26\",\"2022-12-27\",\"2022-12-28\",\"2022-12-29\",\"2022-12-30\",\"2022-12-31\",\"2023-01-01\",\"2023-01-02\",\"2023-01-03\",\"2023-01-04\",\"2023-01-05\",\"2023-01-06\",\"2023-01-07\",\"2023-01-08\",\"2023-01-09\",\"2023-01-10\",\"2023-01-11\",\"2023-01-12\",\"2023-01-13\",\"2023-01-14\",\"2023-01-15\",\"2023-01-16\",\"2023-01-17\",\"2023-01-18\",\"2023-01-19\",\"2023-01-20\",\"2023-01-21\",\"2023-01-22\",\"2023-01-23\",\"2023-01-24\",\"2023-01-25\",\"2023-01-26\",\"2023-01-27\",\"2023-01-28\",\"2023-01-29\",\"2023-01-30\",\"2023-01-31\",\"2023-02-01\",\"2023-02-02\",\"2023-02-03\",\"2023-02-04\",\"2023-02-05\",\"2023-02-06\",\"2023-02-07\",\"2023-02-08\",\"2023-02-09\",\"2023-02-10\",\"2023-02-11\",\"2023-02-12\",\"2023-02-13\",\"2023-02-14\",\"2023-02-15\",\"2023-02-16\",\"2023-02-17\",\"2023-02-18\",\"2023-02-19\",\"2023-02-20\",\"2023-02-21\",\"2023-02-22\",\"2023-02-23\",\"2023-02-24\",\"2023-02-25\",\"2023-02-26\",\"2023-02-27\",\"2023-02-28\",\"2023-03-01\",\"2023-03-02\",\"2023-03-03\",\"2023-03-04\",\"2023-03-05\",\"2023-03-06\",\"2023-03-07\",\"2023-03-08\",\"2023-03-09\",\"2023-03-10\",\"2023-03-11\"],\"y\":[0.0,0.0,0.0,0.0,0.0,0.0,0.0,0.0,0.0,1.0,1.0,2.0,3.0,3.0,8.0,13.0,16.0,16.0,22.0,24.0,31.0,33.0,45.0,65.0,109.0,119.0,186.0,233.0,305.0,370.0,421.0,493.0,558.0,600.0,657.0,708.0,832.0,992.0,1074.0,1246.0,1394.0,1461.0,1688.0,1938.0,2216.0,2464.0,2607.0,2855.0,3231.0,3410.0,3743.0,3944.0,4349.0,4543.0,4765.0,4899.0,5306.0,5552.0,6172.0,6282.0,6828.0,7111.0,7944.0,8504.0,8869.0,9453.0,10166.0,10546.0,11139.0,11721.0,12391.0,13295.0,14156.0,15741.0,16929.0,17062.0,17939.0,18486.0,18728.0,19467.0,19987.0,21601.0,22238.0,26665.0,27805.0,30372.0,32089.0,33589.0,34533.0,37912.0,39298.0,40024.0,42398.0,44886.0,47953.0,52420.0,53388.0,54530.0,56732.0,59240.0,60932.0,63066.0,64533.0,67756.0,69499.0,72979.0,74373.0,75775.0,77784.0,78836.0,79572.0,80946.0,83343.0,86963.0,87317.0,93378.0,95537.0,96133.0,97572.0,100869.0,103493.0,105897.0,108497.0,108803.0,111298.0,111883.0,112611.0,115278.0,116823.0,118956.0,120440.0,121292.0,121879.0,124086.0,126329.0,128324.0,129443.0,129675.0,129684.0,132044.0,132822.0,134449.0,134573.0,135230.0,135230.0,138524.0,141005.0,145121.0,148623.0,151549.0,154879.0,156293.0,156325.0,157834.0,159639.0,161647.0,163642.0,165495.0,167213.0,167225.0,168064.0,168911.0,172679.0,174064.0,175696.0,178524.0,178850.0,180016.0,182563.0,185610.0,188085.0,189891.0,190614.0,194279.0,194651.0,199480.0,202993.0,205916.0,207036.0,210464.0,210948.0,211360.0,214003.0,216675.0,219198.0,219198.0,222957.0,223302.0,223631.0,226800.0,228332.0,230271.0,232489.0,232747.0,232818.0,233052.0,233373.0,233873.0,234813.0,240453.0,240776.0,242491.0,242810.0,244418.0,246182.0,246843.0,249798.0,251261.0,251909.0,252046.0,253756.0,254885.0,257985.0,259488.0,259670.0,261860.0,262006.0,263699.0,264783.0,266235.0,270395.0,271575.0,271701.0,273338.0,275415.0,277439.0,280144.0,282080.0,283407.0,283675.0,283858.0,284053.0,285205.0,286282.0,289440.0,289569.0,290878.0,291413.0,292621.0,293940.0,295021.0,296797.0,298823.0,299380.0,302746.0,304904.0,306672.0,308017.0,309496.0,309977.0,311014.0,311308.0,313089.0,313089.0,313843.0,314809.0,315348.0,316170.0,316575.0,318953.0,320598.0,322383.0,323006.0,326645.0,326956.0,327455.0,330009.0,332396.0,334514.0,336915.0,337277.0,338203.0,338688.0,340833.0,343995.0,346024.0,347348.0,352760.0,353316.0,354354.0,357982.0,361397.0,365185.0,367641.0,370267.0,371075.0,371376.0,374753.0,378084.0,381644.0,384942.0,388431.0,389125.0,389893.0,391350.0,395386.0,398879.0,402480.0,403660.0,406820.0,407575.0,411369.0,414344.0,418543.0,419146.0,420075.0,421069.0,421674.0,426259.0,428373.0,434648.0,435390.0,435604.0,435739.0,439345.0,443607.0,448089.0,452758.0,454275.0,459866.0,460927.0,461561.0,465150.0,469437.0,473648.0,477044.0,481111.0,482058.0,482431.0,486806.0,490821.0,494127.0,494796.0,500185.0,501202.0,501436.0,505596.0,509113.0,512791.0,516868.0,520730.0,520967.0,522998.0,526276.0,529525.0,532377.0,535134.0,537824.0,537986.0,540087.0,541096.0,547081.0,549114.0,551882.0,554040.0,554835.0,555541.0,563926.0,564513.0,566928.0,569184.0,571434.0,572007.0,572866.0,573275.0,577183.0,579118.0,579542.0,582164.0,583044.0,583795.0,585620.0,587800.0,589694.0,591945.0,592505.0,594202.0,594964.0,597136.0,599572.0,601666.0,604171.0,606452.0,606720.0,607806.0,608887.0,612980.0,615930.0,618284.0,619228.0,621991.0,623460.0,626661.0,629553.0,632533.0,635712.0,638481.0,640467.0,641254.0,644754.0,647875.0,651914.0,653204.0,657139.0,658440.0,659237.0,660907.0,666025.0,671207.0,675027.0,678601.0,679654.0,680357.0,684758.0,688797.0,693046.0,697763.0,699422.0,703349.0,704265.0,708424.0,712525.0,716103.0,720749.0,723580.0,724596.0,724858.0,729206.0,733764.0,737844.0,742615.0,745456.0,747449.0,748614.0,753732.0,761216.0,770401.0,778662.0,784506.0,786087.0,786757.0,792073.0,797033.0,803040.0,809971.0,815187.0,816015.0,817947.0,823456.0,828283.0,833014.0,837501.0,839623.0,840480.0,844442.0,848495.0,852280.0,855244.0,855766.0,858949.0,863865.0,865363.0,869302.0,874560.0,878747.0,880267.0,883360.0,884550.0,884936.0,888367.0,894459.0,898531.0,902903.0,905229.0,905821.0,909341.0,913682.0,918383.0,923405.0,925518.0,931885.0,932229.0,933112.0,937290.0,941712.0,945242.0,949196.0,950877.0,951360.0,953858.0,957424.0,958199.0,960495.0,963166.0,965699.0,966114.0,966888.0,970268.0,972619.0,974848.0,977770.0,981088.0,981839.0,982609.0,984554.0,986233.0,992619.0,995266.0,998919.0,999906.0,1000496.0,1001670.0,1005098.0,1008623.0,1012026.0,1013744.0,1014583.0,1014915.0,1018721.0,1022499.0,1023940.0,1029016.0,1031839.0,1032320.0,1033477.0,1036927.0,1041216.0,1044535.0,1046494.0,1058911.0,1060591.0,1061793.0,1063772.0,1067809.0,1072522.0,1076885.0,1080746.0,1080845.0,1083263.0,1088188.0,1093165.0,1097935.0,1102305.0,1104215.0,1106424.0,1107794.0,1112203.0,1116338.0,1119881.0,1122331.0,1124612.0,1125234.0,1125567.0,1128166.0,1130276.0,1132381.0,1134359.0,1136652.0,1137593.0,1137927.0,1140025.0,1140428.0,1158164.0,1158414.0,1159088.0,1159247.0,1159247.0,1159801.0,1160185.0,1161182.0,1161182.0,1266882.0,1268614.0,1269239.0,1269239.0,1273870.0,1275932.0,1278031.0,1278906.0,1280126.0,1280544.0,1282592.0,1283454.0,1285731.0,1288476.0,1289639.0,1289808.0,1291106.0,1293429.0,1295429.0,1295545.0,1299010.0,1299493.0,1300712.0,1301362.0,1301890.0,1302530.0,1304445.0,1305919.0,1306675.0,1306819.0,1308193.0,1307160.0,1308908.0,1311219.0,1312954.0,1314605.0,1314622.0,1314717.0,1315560.0,1317850.0,1319439.0,1320762.0,1321174.0,1322087.0,1322150.0,1322497.0,1322861.0,1323955.0,1325246.0,1326476.0,1326833.0,1327116.0,1328192.0,1329609.0,1330549.0,1331675.0,1332674.0,1332780.0,1333046.0,1333434.0,1334462.0,1335211.0,1336274.0,1337091.0,1337805.0,1337867.0,1338708.0,1339819.0,1340886.0,1341850.0,1342671.0,1342767.0,1342801.0,1343927.0,1344816.0,1345572.0,1346494.0,1346998.0,1347465.0,1347628.0,1348159.0,1348861.0,1349385.0,1349461.0,1349520.0,1349551.0,1349551.0,1349551.0,1349564.0,1349569.0,1349569.0,1349599.0,1349606.0,1349608.0,1349608.0,1349608.0,1349642.0,1349715.0,1350792.0,1350843.0,1350964.0,1351261.0,1351861.0,1351876.0,1352824.0,1352852.0,1352925.0,1356863.0,1359403.0,1362872.0,1368337.0,1375179.0,1382484.0,1385935.0,1386877.0,1397366.0,1409367.0,1422204.0,1438321.0,1438711.0,1442517.0,1444349.0,1459328.0,1528551.0,1550953.0,1571974.0,1602066.0,1610135.0,1613260.0,1637812.0,1661208.0,1695972.0,1723682.0,1747887.0,1753395.0,1757151.0,1772794.0,1790994.0,1819607.0,1819607.0,1852994.0,1854963.0,1856969.0,1870522.0,1882077.0,1893620.0,1905090.0,1914945.0,1918651.0,1920434.0,1928598.0,1937810.0,1946016.0,1949779.0,1960037.0,1961856.0,1963043.0,1967184.0,1977628.0,1982921.0,1989021.0,1993810.0,1995136.0,1995678.0,1996760.0,1997617.0,2001312.0,2006761.0,2011215.0,2011573.0,2011870.0,2017580.0,2022417.0,2027636.0,2032079.0,2036283.0,2037051.0,2037418.0,2042494.0,2046184.0,2050452.0,2054897.0,2058571.0,2058978.0,2059810.0,2063668.0,2068356.0,2071914.0,2075187.0,2078648.0,2078817.0,2079801.0,2082820.0,2085915.0,2089829.0,2092612.0,2092612.0,2092612.0,2097088.0,2099668.0,2102458.0,2105358.0,2108417.0,2108417.0,2108417.0,2111868.0,2114523.0,2117270.0,2117270.0,2117270.0,2117270.0,2117270.0,2119007.0,2120203.0,2129580.0,2129580.0,2131863.0,2131863.0,2131863.0,2133169.0,2135271.0,2137643.0,2139439.0,2140492.0,2140492.0,2140492.0,2142829.0,2144311.0,2145933.0,2149139.0,2150287.0,2150287.0,2150287.0,2153740.0,2155817.0,2158019.0,2160060.0,2162354.0,2162354.0,2162354.0,2165562.0,2167859.0,2168273.0,2168418.0,2168599.0,2168599.0,2168599.0,2171757.0,2174328.0,2177585.0,2181506.0,2184238.0,2184238.0,2184238.0,2189528.0,2193304.0,2198247.0,2203684.0,2208212.0,2208212.0,2208212.0,2217604.0,2223322.0,2229049.0,2233545.0,2243137.0,2243137.0,2243137.0,2248909.0,2259012.0,2266309.0,2266309.0,2274509.0,2274509.0,2274509.0,2283177.0,2292140.0,2300360.0,2308917.0,2316183.0,2316183.0,2316183.0,2325377.0,2333281.0,2341235.0,2348485.0,2355371.0,2355371.0,2355371.0,2360412.0,2369051.0,2375245.0,2380827.0,2386475.0,2386475.0,2386475.0,2393318.0,2395359.0,2403404.0,2407766.0,2411840.0,2411840.0,2411840.0,2416488.0,2420477.0,2424146.0,2427181.0,2430293.0,2430293.0,2430293.0,2434132.0,2436997.0,2440083.0,2442491.0,2445094.0,2445094.0,2445094.0,2447828.0,2449947.0,2452275.0,2455125.0,2457643.0,2457643.0,2457643.0,2460396.0,2462761.0,2465029.0,2465757.0,2468978.0,2468978.0,2468978.0,2471033.0,2472303.0,2473486.0,2474929.0,2476205.0,2476205.0,2476205.0,2477631.0,2478734.0,2479987.0,2480042.0,2482240.0,2482240.0,2482240.0,2489701.0,2491389.0,2491419.0,2493896.0,2494713.0,2494713.0,2494713.0,2496436.0,2497915.0,2497915.0,2499070.0,2500526.0,2500526.0,2500526.0,2501974.0,2503195.0,2504402.0,2505607.0,2506533.0,2506533.0,2506533.0,2507989.0,2508195.0,2508464.0,2508847.0,2509071.0,2509071.0,2509071.0,2512486.0,2513549.0,2513549.0,2515378.0,2516066.0,2516066.0,2516066.0,2518758.0,2519816.0,2520839.0,2520952.0,2522127.0,2522127.0,2522127.0,2523316.0,2524123.0,2524123.0,2525238.0,2526152.0,2526152.0,2526152.0,2526341.0,2526518.0,2528836.0,2529682.0,2529881.0,2529881.0,2529881.0,2531559.0,2531903.0,2533357.0,2534326.0,2534812.0,2534812.0,2534812.0,2535589.0,2537507.0,2537507.0,2539001.0,2539180.0,2539180.0,2539180.0,2540145.0,2543735.0,2545814.0,2550389.0,2557979.0,2557979.0,2557979.0,2559374.0,2559374.0,2568178.0,2579867.0,2590500.0,2590500.0,2590500.0,2601504.0,2602894.0,2609193.0,2609193.0,2620574.0,2620574.0,2620574.0,2620574.0,2632580.0,2637281.0,2640364.0,2645642.0,2645642.0,2645642.0,2648331.0,2652714.0,2655317.0,2660936.0,2660936.0,2660936.0,2660936.0,2665672.0,2669354.0,2670866.0,2674998.0,2677837.0,2677837.0,2677837.0,2681363.0,2683636.0,2686177.0,2688735.0,2691257.0,2691257.0,2691257.0,2693218.0,2695571.0,2698002.0,2699876.0,2701378.0,2701378.0,2701378.0,2702176.0,2702876.0,2705998.0,2706528.0,2709073.0,2709073.0,2709073.0,2709712.0,2712254.0,2713302.0,2714491.0,2715649.0,2715649.0,2715649.0,2717193.0,2718341.0,2718700.0,2719059.0,2719059.0,2719059.0,2719059.0,2722927.0,2723296.0,2725044.0,2726134.0,2727033.0,2727033.0,2727033.0,2728100.0,2728919.0,2729686.0,2730501.0,2731244.0,2731244.0,2731244.0,2732126.0,2733232.0,2733452.0,2733797.0,2735284.0,2735284.0,2735284.0,2736123.0,2738010.0,2738496.0,2740067.0,2740730.0,2740730.0,2740730.0,2740730.0,2740730.0,2740730.0,2742697.0,2744390.0,2744390.0,2744390.0,2745792.0,2748109.0,2749661.0,2751176.0,2752662.0,2754359.0,2754359.0,2754359.0,2754359.0,2754359.0,2754359.0,2754359.0,2762341.0],\"type\":\"scatter\"}],                        {\"template\":{\"data\":{\"barpolar\":[{\"marker\":{\"line\":{\"color\":\"rgb(17,17,17)\",\"width\":0.5},\"pattern\":{\"fillmode\":\"overlay\",\"size\":10,\"solidity\":0.2}},\"type\":\"barpolar\"}],\"bar\":[{\"error_x\":{\"color\":\"#f2f5fa\"},\"error_y\":{\"color\":\"#f2f5fa\"},\"marker\":{\"line\":{\"color\":\"rgb(17,17,17)\",\"width\":0.5},\"pattern\":{\"fillmode\":\"overlay\",\"size\":10,\"solidity\":0.2}},\"type\":\"bar\"}],\"carpet\":[{\"aaxis\":{\"endlinecolor\":\"#A2B1C6\",\"gridcolor\":\"#506784\",\"linecolor\":\"#506784\",\"minorgridcolor\":\"#506784\",\"startlinecolor\":\"#A2B1C6\"},\"baxis\":{\"endlinecolor\":\"#A2B1C6\",\"gridcolor\":\"#506784\",\"linecolor\":\"#506784\",\"minorgridcolor\":\"#506784\",\"startlinecolor\":\"#A2B1C6\"},\"type\":\"carpet\"}],\"choropleth\":[{\"colorbar\":{\"outlinewidth\":0,\"ticks\":\"\"},\"type\":\"choropleth\"}],\"contourcarpet\":[{\"colorbar\":{\"outlinewidth\":0,\"ticks\":\"\"},\"type\":\"contourcarpet\"}],\"contour\":[{\"colorbar\":{\"outlinewidth\":0,\"ticks\":\"\"},\"colorscale\":[[0.0,\"#0d0887\"],[0.1111111111111111,\"#46039f\"],[0.2222222222222222,\"#7201a8\"],[0.3333333333333333,\"#9c179e\"],[0.4444444444444444,\"#bd3786\"],[0.5555555555555556,\"#d8576b\"],[0.6666666666666666,\"#ed7953\"],[0.7777777777777778,\"#fb9f3a\"],[0.8888888888888888,\"#fdca26\"],[1.0,\"#f0f921\"]],\"type\":\"contour\"}],\"heatmapgl\":[{\"colorbar\":{\"outlinewidth\":0,\"ticks\":\"\"},\"colorscale\":[[0.0,\"#0d0887\"],[0.1111111111111111,\"#46039f\"],[0.2222222222222222,\"#7201a8\"],[0.3333333333333333,\"#9c179e\"],[0.4444444444444444,\"#bd3786\"],[0.5555555555555556,\"#d8576b\"],[0.6666666666666666,\"#ed7953\"],[0.7777777777777778,\"#fb9f3a\"],[0.8888888888888888,\"#fdca26\"],[1.0,\"#f0f921\"]],\"type\":\"heatmapgl\"}],\"heatmap\":[{\"colorbar\":{\"outlinewidth\":0,\"ticks\":\"\"},\"colorscale\":[[0.0,\"#0d0887\"],[0.1111111111111111,\"#46039f\"],[0.2222222222222222,\"#7201a8\"],[0.3333333333333333,\"#9c179e\"],[0.4444444444444444,\"#bd3786\"],[0.5555555555555556,\"#d8576b\"],[0.6666666666666666,\"#ed7953\"],[0.7777777777777778,\"#fb9f3a\"],[0.8888888888888888,\"#fdca26\"],[1.0,\"#f0f921\"]],\"type\":\"heatmap\"}],\"histogram2dcontour\":[{\"colorbar\":{\"outlinewidth\":0,\"ticks\":\"\"},\"colorscale\":[[0.0,\"#0d0887\"],[0.1111111111111111,\"#46039f\"],[0.2222222222222222,\"#7201a8\"],[0.3333333333333333,\"#9c179e\"],[0.4444444444444444,\"#bd3786\"],[0.5555555555555556,\"#d8576b\"],[0.6666666666666666,\"#ed7953\"],[0.7777777777777778,\"#fb9f3a\"],[0.8888888888888888,\"#fdca26\"],[1.0,\"#f0f921\"]],\"type\":\"histogram2dcontour\"}],\"histogram2d\":[{\"colorbar\":{\"outlinewidth\":0,\"ticks\":\"\"},\"colorscale\":[[0.0,\"#0d0887\"],[0.1111111111111111,\"#46039f\"],[0.2222222222222222,\"#7201a8\"],[0.3333333333333333,\"#9c179e\"],[0.4444444444444444,\"#bd3786\"],[0.5555555555555556,\"#d8576b\"],[0.6666666666666666,\"#ed7953\"],[0.7777777777777778,\"#fb9f3a\"],[0.8888888888888888,\"#fdca26\"],[1.0,\"#f0f921\"]],\"type\":\"histogram2d\"}],\"histogram\":[{\"marker\":{\"pattern\":{\"fillmode\":\"overlay\",\"size\":10,\"solidity\":0.2}},\"type\":\"histogram\"}],\"mesh3d\":[{\"colorbar\":{\"outlinewidth\":0,\"ticks\":\"\"},\"type\":\"mesh3d\"}],\"parcoords\":[{\"line\":{\"colorbar\":{\"outlinewidth\":0,\"ticks\":\"\"}},\"type\":\"parcoords\"}],\"pie\":[{\"automargin\":true,\"type\":\"pie\"}],\"scatter3d\":[{\"line\":{\"colorbar\":{\"outlinewidth\":0,\"ticks\":\"\"}},\"marker\":{\"colorbar\":{\"outlinewidth\":0,\"ticks\":\"\"}},\"type\":\"scatter3d\"}],\"scattercarpet\":[{\"marker\":{\"colorbar\":{\"outlinewidth\":0,\"ticks\":\"\"}},\"type\":\"scattercarpet\"}],\"scattergeo\":[{\"marker\":{\"colorbar\":{\"outlinewidth\":0,\"ticks\":\"\"}},\"type\":\"scattergeo\"}],\"scattergl\":[{\"marker\":{\"line\":{\"color\":\"#283442\"}},\"type\":\"scattergl\"}],\"scattermapbox\":[{\"marker\":{\"colorbar\":{\"outlinewidth\":0,\"ticks\":\"\"}},\"type\":\"scattermapbox\"}],\"scatterpolargl\":[{\"marker\":{\"colorbar\":{\"outlinewidth\":0,\"ticks\":\"\"}},\"type\":\"scatterpolargl\"}],\"scatterpolar\":[{\"marker\":{\"colorbar\":{\"outlinewidth\":0,\"ticks\":\"\"}},\"type\":\"scatterpolar\"}],\"scatter\":[{\"marker\":{\"line\":{\"color\":\"#283442\"}},\"type\":\"scatter\"}],\"scatterternary\":[{\"marker\":{\"colorbar\":{\"outlinewidth\":0,\"ticks\":\"\"}},\"type\":\"scatterternary\"}],\"surface\":[{\"colorbar\":{\"outlinewidth\":0,\"ticks\":\"\"},\"colorscale\":[[0.0,\"#0d0887\"],[0.1111111111111111,\"#46039f\"],[0.2222222222222222,\"#7201a8\"],[0.3333333333333333,\"#9c179e\"],[0.4444444444444444,\"#bd3786\"],[0.5555555555555556,\"#d8576b\"],[0.6666666666666666,\"#ed7953\"],[0.7777777777777778,\"#fb9f3a\"],[0.8888888888888888,\"#fdca26\"],[1.0,\"#f0f921\"]],\"type\":\"surface\"}],\"table\":[{\"cells\":{\"fill\":{\"color\":\"#506784\"},\"line\":{\"color\":\"rgb(17,17,17)\"}},\"header\":{\"fill\":{\"color\":\"#2a3f5f\"},\"line\":{\"color\":\"rgb(17,17,17)\"}},\"type\":\"table\"}]},\"layout\":{\"annotationdefaults\":{\"arrowcolor\":\"#f2f5fa\",\"arrowhead\":0,\"arrowwidth\":1},\"autotypenumbers\":\"strict\",\"coloraxis\":{\"colorbar\":{\"outlinewidth\":0,\"ticks\":\"\"}},\"colorscale\":{\"diverging\":[[0,\"#8e0152\"],[0.1,\"#c51b7d\"],[0.2,\"#de77ae\"],[0.3,\"#f1b6da\"],[0.4,\"#fde0ef\"],[0.5,\"#f7f7f7\"],[0.6,\"#e6f5d0\"],[0.7,\"#b8e186\"],[0.8,\"#7fbc41\"],[0.9,\"#4d9221\"],[1,\"#276419\"]],\"sequential\":[[0.0,\"#0d0887\"],[0.1111111111111111,\"#46039f\"],[0.2222222222222222,\"#7201a8\"],[0.3333333333333333,\"#9c179e\"],[0.4444444444444444,\"#bd3786\"],[0.5555555555555556,\"#d8576b\"],[0.6666666666666666,\"#ed7953\"],[0.7777777777777778,\"#fb9f3a\"],[0.8888888888888888,\"#fdca26\"],[1.0,\"#f0f921\"]],\"sequentialminus\":[[0.0,\"#0d0887\"],[0.1111111111111111,\"#46039f\"],[0.2222222222222222,\"#7201a8\"],[0.3333333333333333,\"#9c179e\"],[0.4444444444444444,\"#bd3786\"],[0.5555555555555556,\"#d8576b\"],[0.6666666666666666,\"#ed7953\"],[0.7777777777777778,\"#fb9f3a\"],[0.8888888888888888,\"#fdca26\"],[1.0,\"#f0f921\"]]},\"colorway\":[\"#636efa\",\"#EF553B\",\"#00cc96\",\"#ab63fa\",\"#FFA15A\",\"#19d3f3\",\"#FF6692\",\"#B6E880\",\"#FF97FF\",\"#FECB52\"],\"font\":{\"color\":\"#f2f5fa\"},\"geo\":{\"bgcolor\":\"rgb(17,17,17)\",\"lakecolor\":\"rgb(17,17,17)\",\"landcolor\":\"rgb(17,17,17)\",\"showlakes\":true,\"showland\":true,\"subunitcolor\":\"#506784\"},\"hoverlabel\":{\"align\":\"left\"},\"hovermode\":\"closest\",\"mapbox\":{\"style\":\"dark\"},\"paper_bgcolor\":\"rgb(17,17,17)\",\"plot_bgcolor\":\"rgb(17,17,17)\",\"polar\":{\"angularaxis\":{\"gridcolor\":\"#506784\",\"linecolor\":\"#506784\",\"ticks\":\"\"},\"bgcolor\":\"rgb(17,17,17)\",\"radialaxis\":{\"gridcolor\":\"#506784\",\"linecolor\":\"#506784\",\"ticks\":\"\"}},\"scene\":{\"xaxis\":{\"backgroundcolor\":\"rgb(17,17,17)\",\"gridcolor\":\"#506784\",\"gridwidth\":2,\"linecolor\":\"#506784\",\"showbackground\":true,\"ticks\":\"\",\"zerolinecolor\":\"#C8D4E3\"},\"yaxis\":{\"backgroundcolor\":\"rgb(17,17,17)\",\"gridcolor\":\"#506784\",\"gridwidth\":2,\"linecolor\":\"#506784\",\"showbackground\":true,\"ticks\":\"\",\"zerolinecolor\":\"#C8D4E3\"},\"zaxis\":{\"backgroundcolor\":\"rgb(17,17,17)\",\"gridcolor\":\"#506784\",\"gridwidth\":2,\"linecolor\":\"#506784\",\"showbackground\":true,\"ticks\":\"\",\"zerolinecolor\":\"#C8D4E3\"}},\"shapedefaults\":{\"line\":{\"color\":\"#f2f5fa\"}},\"sliderdefaults\":{\"bgcolor\":\"#C8D4E3\",\"bordercolor\":\"rgb(17,17,17)\",\"borderwidth\":1,\"tickwidth\":0},\"ternary\":{\"aaxis\":{\"gridcolor\":\"#506784\",\"linecolor\":\"#506784\",\"ticks\":\"\"},\"baxis\":{\"gridcolor\":\"#506784\",\"linecolor\":\"#506784\",\"ticks\":\"\"},\"bgcolor\":\"rgb(17,17,17)\",\"caxis\":{\"gridcolor\":\"#506784\",\"linecolor\":\"#506784\",\"ticks\":\"\"}},\"title\":{\"x\":0.05},\"updatemenudefaults\":{\"bgcolor\":\"#506784\",\"borderwidth\":0},\"xaxis\":{\"automargin\":true,\"gridcolor\":\"#283442\",\"linecolor\":\"#506784\",\"ticks\":\"\",\"title\":{\"standoff\":15},\"zerolinecolor\":\"#283442\",\"zerolinewidth\":2},\"yaxis\":{\"automargin\":true,\"gridcolor\":\"#283442\",\"linecolor\":\"#506784\",\"ticks\":\"\",\"title\":{\"standoff\":15},\"zerolinecolor\":\"#283442\",\"zerolinewidth\":2}}},\"margin\":{\"l\":10,\"r\":10,\"t\":10,\"b\":10},\"paper_bgcolor\":\"#242424\",\"plot_bgcolor\":\"#242424\",\"autosize\":true},                        {\"responsive\": true}                    ).then(function(){\n",
              "                            \n",
              "var gd = document.getElementById('608d5c1f-ae77-441f-a8ad-e8bc6a34f2d0');\n",
              "var x = new MutationObserver(function (mutations, observer) {{\n",
              "        var display = window.getComputedStyle(gd).display;\n",
              "        if (!display || display === 'none') {{\n",
              "            console.log([gd, 'removed!']);\n",
              "            Plotly.purge(gd);\n",
              "            observer.disconnect();\n",
              "        }}\n",
              "}});\n",
              "\n",
              "// Listen for the removal of the full notebook cells\n",
              "var notebookContainer = gd.closest('#notebook-container');\n",
              "if (notebookContainer) {{\n",
              "    x.observe(notebookContainer, {childList: true});\n",
              "}}\n",
              "\n",
              "// Listen for the clearing of the current output cell\n",
              "var outputEl = gd.closest('.output');\n",
              "if (outputEl) {{\n",
              "    x.observe(outputEl, {childList: true});\n",
              "}}\n",
              "\n",
              "                        })                };                            </script>        </div>\n",
              "</body>\n",
              "</html>"
            ]
          },
          "metadata": {}
        }
      ]
    },
    {
      "cell_type": "markdown",
      "source": [
        "#Layout\n",
        "\n",
        "Vamos usar o layout pronto da biblioteca dbs, onde podemos usar um sistema com 1 container com linhas e colunas, especificando esses tamanhos de acordo com a tela.\n",
        "\n",
        "Teremos container, row e call. Basicamente temos 2 colunas, mas cada coluna precisa de uma linha para o container\n",
        "\n",
        "A coluna da esquerda terá dados, tabela e divs.\n",
        "\n",
        "A coluna da direita será o mapa do Brasil"
      ],
      "metadata": {
        "id": "EDbd-kqAZLIE"
      }
    },
    {
      "cell_type": "markdown",
      "source": [
        "Nosso Layout será criado, ele será formado por duas  grandes linhas (Row), uma no topo e a outra abaixo, contendo nela três colunas (Col). Estas três possuem comprimentos ajustáveis pela Row, onde a soma deles não pode passar de 12, comprimento total da Row, possibilitando assim uma personalização dos tamanhos das colunas.\n",
        "\n",
        "O Container terá todo o nosso layout, formado por duas grandes linhas e 3 colunas contidas em uma delas. Nossa ideia é criar no Dashboard uma separação entre a apresentação dos dados e o mapa.\n",
        "\n",
        "Nosso esquema de layout é o seguinte:\n",
        "\n",
        "- Container: define uma região retangular na página, contendo outros componentes, como gráficos, tabelas e textos.\n",
        "\n",
        "  - Row1: agrupará outros componentes horizontalmente, como uma linha, colunas e outras Row.\n",
        "\n",
        "    - Col1: agrupa outros componentes verticalmente na Row1, como uma coluna\n",
        "\n",
        "      - Img: Carregar uma imagem para a coluna\n",
        "\n",
        "      - H5: Inserir um texto de tamanho H5\n",
        "\n",
        "      - Button: Inserir um botão que executará alguma ação, determinada pelo callback.\n",
        "\n",
        "      - P: Elemento paragráfico\n",
        "\n",
        "      - Div: Cria um contêiner genérico para outros elementos html\n",
        "\n",
        "        - DatePickerSingle: calendário em janela flutuante.\n",
        "\n",
        "      - Row1.1: Agora criar uma linha com 3 colunas contendo cartões em cada uma\n",
        "\n",
        "        - Col1.1\n",
        "          - Card1.1: exibe informações, gráficos, imagens e outros elementos visuais. \n",
        "            - CardBody1.1: adiciona conteúdo ao cartão, como texto, gráficos, tabelas e outros elementos ao corpo do cartão.\n",
        "\n",
        "      - Div\n",
        "        - P\n",
        "        - Dropdown: menu suspenso que exibe uma lista de opções para o usuário selecionar\n",
        "        - Graph\n",
        "\n",
        "    - Col2\n",
        "      - Loading\n",
        "        - Graph: criação de gráficos interativos "
      ],
      "metadata": {
        "id": "nx0xbyxjEaS6"
      }
    },
    {
      "cell_type": "code",
      "source": [
        "app.layout = dbc.Container(\n",
        "    \n",
        "    dbc.Row([ \n",
        "        \n",
        "        dbc.Col([\n",
        "            html.Div([\n",
        "            html.Img(id=\"logo\", src='https://uploaddeimagens.com.br/images/004/196/406/full/notebook_livia.png?1669774882',height=20, style={'object-fit': 'contain'}),\n",
        "            html.H5(\"Evolução COVID-19\"),\n",
        "            dbc.Button(children=\"BRASIL\",color=\"primary\", id=\"location-button\",size=\"lg\")\n",
        "        ], style={}),  \n",
        "\n",
        "            html.P(\"Informe a data na qual deseja obter informações\", style={\"margin-top\":\"40px\"}),\n",
        "\n",
        "            html.Div(id=\"div-test\",children =[\n",
        "                dcc.DatePickerSingle(\n",
        "                    id=\"date-picker\",\n",
        "                    min_date_allowed=df_brasil[\"data\"].min(),\n",
        "                    max_date_allowed=df_brasil[\"data\"].max(),\n",
        "                    initial_visible_month = df_brasil[\"data\"].min(),\n",
        "                    date=df_brasil[\"data\"].max(),\n",
        "                    display_format=\"DD/MM/YYYY\",\n",
        "                    style={\"border\":\"0px solid black\"}\n",
        "                ) #objeto que nos permite escolher data\n",
        "\n",
        "            ]),\n",
        "\n",
        "            dbc.Row([\n",
        "                dbc.Col([\n",
        "                    dbc.Card([\n",
        "                        dbc.CardBody([\n",
        "                            html.Span(\"Casos recuperados\"),\n",
        "                            html.H3(style={\"color\": \"#adfc92\"}, id=\"casos-recuperados-text\"),\n",
        "                            html.Span(\"Em acompanhamento\"),\n",
        "                            html.H5(id=\"em-acompanhamento-text\"),\n",
        "                          \n",
        "                        ])\n",
        "                    ], color='light', outline=True, style={\"margin-top\": \"10px\",\n",
        "                                                           \"box-shadow\": \"0 4px 4px 0 rgba(0, 0, 0, 0.15), 0 4px 20px 0 rgba(0, 0, 0, 0.19)\",\n",
        "                                                           \"color\": \"#FFFFFF\"})\n",
        "                ], md=4), #largura total que a coluna ocupa, o total são 12\n",
        "\n",
        "                dbc.Col([\n",
        "                    dbc.Card([\n",
        "                        dbc.CardBody([\n",
        "                            html.Span(\"Casos confirmados totais\"),\n",
        "                            html.H3(style={\"color\": \"#389fd6\"}, id=\"casos-confirmados-text\"),\n",
        "                            html.Span(\"Novos casos na data\"),\n",
        "                            html.H5(id=\"novos-casos-text\"),\n",
        "                          \n",
        "                        ])\n",
        "                    ], color='light', outline=True, style={\"margin-top\": \"10px\",\n",
        "                                                           \"box-shadow\": \"0 4px 4px 0 rgba(0, 0, 0, 0.15), 0 4px 20px 0 rgba(0, 0, 0, 0.19)\",\n",
        "                                                           \"color\": \"#FFFFFF\"})\n",
        "                ], md=4),\n",
        "\n",
        "                dbc.Col([\n",
        "                    dbc.Card([\n",
        "                        dbc.CardBody([\n",
        "                            html.Span(\"Óbitos confirmados\"),\n",
        "                            html.H3(style={\"color\": \"#DF2935\"}, id=\"obitos-text\"),\n",
        "                            html.Span(\"Óbitos na data\"),\n",
        "                            html.H5(id=\"obitos-na-data-text\"),\n",
        "                          \n",
        "                        ])\n",
        "                    ], color='light', outline=True, style={\"margin-top\": \"10px\",\n",
        "                                                           \"box-shadow\": \"0 4px 4px 0 rgba(0, 0, 0, 0.15), 0 4px 20px 0 rgba(0, 0, 0, 0.19)\",\n",
        "                                                           \"color\": \"#FFFFFF\"})\n",
        "                ], md=4),\n",
        "                \n",
        "            ]),\n",
        "\n",
        "            html.Div([\n",
        "                html.P(\"Selecione que tipo de dado deseja visualizar:\", style={\"margin-top\":\"25px\"}),\n",
        "                dcc.Dropdown(id=\"location-dropdown\",\n",
        "                         options=[{\"label\": j, \"value\": i} for i, j in select_columns.items()],\n",
        "                         value=\"casosNovos\",\n",
        "                         style={\"margin-top\":\"10px\"}\n",
        "                         ),\n",
        "                dcc.Graph(id=\"line-graph\", figure=fig2)\n",
        "\n",
        "            ]),\n",
        "\n",
        "            \n",
        "        ], md=5, style={\"padding\":\"25px\", \"background-color\": \"#242424\"}),\n",
        "        \n",
        "        dbc.Col([\n",
        "            dcc.Loading(id=\"loading-1\", type=\"default\",\n",
        "                        children = [dcc.Graph(id=\"choropleth-map\",\n",
        "                         figure=fig, style={\"height\": \"100vh\", \"margin-right\": \"10px\"})\n",
        "                        ]\n",
        "                        \n",
        "                    )\n",
        "            \n",
        "        ], md=7)\n",
        "    ], class_name='g-0')\n",
        ", fluid = True)"
      ],
      "metadata": {
        "id": "8nckbqDn20ZY"
      },
      "execution_count": 17,
      "outputs": []
    },
    {
      "cell_type": "markdown",
      "source": [],
      "metadata": {
        "id": "n6u4g7_l-IDt"
      }
    },
    {
      "cell_type": "markdown",
      "source": [
        "# Interatividade\n",
        "Precisamos criar funções que receberão parâmetros dos componentes do dash e retornarão outros valores que serão encaixados em alguns atributos de outros componentes.\n",
        "\n",
        "Para isso usaremos um decorador especial do dash, o @app.callback, que pede dois parâmetros, o Output e o Input da função a ser criada. Assim o @app.callback será acionado quando qualquer parâmetro do app for alterado, chamando a função para alterar outros parâmetros.\n",
        "\n",
        "Devemos informar em cada Output e Input primeiramente o component_id e depois o component_property.\n",
        "\n",
        "Temos 4 callbacks:\n",
        "\n",
        "- Callback 1: Queremos selecionar uma data e que chame uma função ao modificar a data, para que os valores contidos nos cards sejam alterados, de acordo com a data e localização. Para o Input iremos definir o component_id sendo o \"date-picker\" e o \"component-property\" \"date\". Assim, uma vez que \"date\" for alterado, o dash automaticamente vai chamar a função abaixo, passando o \"date\" como parâmetro, pois é o primeiro Input da lista de Inputs. Teremos agora outro Input, o \"location-button\". Quando seu children for alterado, ou seja, \"BRASIL\" não for mais \"BRASIL\", também chamará a mesma função. Agora temos uma função que alterará os valores dos cards de acordo com a data e localização, então quando outras funções a modificarem, essa função será chamada também. Agora, quem será modificado? Iremos alterar todos os html.H3, sendo textos contidos nos cards, compostos por 6 outputs, 2 em cada card. O children desses H3 é definido implicitamente, pois não está escrito lá em cima, então inicialmente nada está escrito abaixo de \"Casos confirmados totais\", o que será preenchido por um valor devolvido pela função. Então basicamente queremos que nossa função pegue a data e localização, e devolva dados dos estados (df_estados) ou brasil (df_brasil), com os valores respectivos de data e localização de cada df. Se location = \"BRASIL\" vamos puxar informações de df_brasil, caso contrário, df_estados. Assim definimos para cada ocorrência um df_data_on_date, que será um dataframe contendo dados apenas daquela data em específico. Caso location não seja BRASIL, iremos criar um df_data_on_date, onde só haverá informação da location especificada (um estado) na devida data selecionada (date). Agora temos um detalhe para os valores data_on_date, se nossa location não for Brasil, for algum estado, não haverão dados para \"Recuperadosnovos\", pois esses dados estão disponíveis apenas para o Brasil. Então, para mostrar ao dashboard que não há essas informações, será preciso criar uma função que apresentará um \"-\" casos essa coluna for nula (isna()). Se não for nula iremos apenas formatar o valor, para mostrar as separações em \".\". Então,  aqui há a alteração da localização pelo location-button, e uma alteração na data, promovendo o uso de dados naquela localização e data. Sendo assim, a variável \"location-button\" afetará também o 2° e 4° Callbacks, mexendo nos gráficos de barra e linhas e também nos H5, assim como a variável \"date-picker\" irá afetar o 3° Callback, na hora de preencher os dados do mapa com a devida data. \n",
        "\n",
        "- Callback 2: Selecionar o Dropdown (lista com opções) e a localização irá alterar a figure do nosso line-graph, mostrando diferentes dados para diferentes estados. Então criaremos uma função que receberá plot_type (vinda do \"value\") e location. Se a localização for \"BRASIL\" criaremos um df_data_on_location e usaremos seus dados, caso contrário, criaremos uma df_data_on_location com dados do estado especificado. Além disso iremos alterar o visual do gráfico dependendo do parâmetro escolhido no Dropdown. Para dados acumulados usaremos gráfico de linhas, e para dados novos usaremos gráfico de barra. Então criaremos uma lista chamada bar_plots, contendo os nomes de cada opção do Dropdown que serão do tipo Barra. Caso nosso plot_type vinda do value do input seja uma string contida na lista bar_plots, iremos atualizar a figura para um gráfico de barra, caso contrário irá virar um gráfico de linha. Assim, para ambos os gráficos, nosso eixo X será o df_data_on_location[\"Data\"], sendo a data até onde ocorreram os dados, e o nosso eixo Y os dados locais (de óbitos ou casos, podendo ser novos ou acumulados). O \"location-button\" alterado aqui, além de disparar a função desse Callback 2, irá disparar o Callbacks 1, alterando os H5. O \"location-dropdown\" apenas aplica mudanças nesse Callback, alterando o gráfico de linha ou barras.\n",
        "\n",
        "- Callback 3: Alterar a data altera o gráfico choropleth, do Brasil, preenchendo cada estado com seus devidos valores em uma data específica, podendo acompanhar os dados de cada estado. Teremos como Input a Data e Output o gráfico, que serão porta de entrada para a nossa função, que criará outro choropleth, com informações de acordo com a data selecionada. O \"date\" alterado aqui, além de disparar a função desse Callback que altera o mapa, também irá disparar a do Callback 1, alterando os dados em H5 dos cards.\n",
        "\n",
        "- Callback 4: Clicar em cada estado irá alterar nossos dados e clicar no \"location-button\" irá resetar nossos dados para o Brasil. Isso ocorrerá através de nossos Inputs, que serão o choropleth-map\", onde queremos o \"clickData\" dele, e o \"n_clicks\" do \"location-button\". Definiremos o n_clicks como sendo a quantidade de vezes que o location-button foi clicado. Nossa função recebe o click_data e o n_clicks, ela irá conter uma variável (changed_id) que irá entender qual dos últimos eventos foi clicado, o mapa ou o location-button. Vamos usar uma propriedade do dash que nos permite saber qual foi o última evento que disparou a nossa função, o [p[\"prop_id\"] for p in dash.callback_context.triggered][0]. Esta será uma lista que contém todos os valores que estão aplicando mudanças na função desse Callback, com o [0] conseguimos o click mais atual. Caso o click atual tenha valor (retornaria vazio se o clique fosse em outro local) e seja diferente de location-button.n_clicks, saberemos que o clique foi no mapa. Assim o estado selecionado será definido, retornando o seu nome no location-button, caso contrário, clique no \"location-button\", retornará Brasil. O \"location-button\" alterado aqui, além de disparar nossa função desse Callback, irá disparar o Callback 1, alterando os dados H5 dos cards, e o Callback 2, alterando o plot gráfico de linha ou barras. "
      ],
      "metadata": {
        "id": "Vm_hQGMfzvzG"
      }
    },
    {
      "cell_type": "code",
      "source": [
        "@app.callback(\n",
        "    [ \n",
        "      Output(\"casos-recuperados-text\", \"children\"),\n",
        "      Output(\"em-acompanhamento-text\", \"children\"),\n",
        "      Output(\"casos-confirmados-text\", \"children\"),\n",
        "      Output(\"novos-casos-text\", \"children\"),\n",
        "      Output(\"obitos-text\", \"children\"),\n",
        "      Output(\"obitos-na-data-text\", \"children\")\n",
        "    ],\n",
        "     [Input(\"date-picker\", \"date\"),\n",
        "      Input(\"location-button\", \"children\")]\n",
        "     )\n",
        "\n",
        "def display_status(date, location):\n",
        "  if location == \"BRASIL\":\n",
        "    df_data_on_date = df_brasil[df_brasil[\"data\"] == date]\n",
        "  else:\n",
        "    df_data_on_date = df_estados[(df_estados[\"estado\"] == location) & (df_estados[\"data\"]==date)]\n",
        "  \n",
        "  df_data_on_date[\"Recuperadosnovos\"]\n",
        "  recuperados_novos = \"-\" if df_data_on_date[\"Recuperadosnovos\"].isna().values[0] else f'{int(df_data_on_date[\"Recuperadosnovos\"].values[0]):,}'.replace(\",\",\".\")\n",
        "  acompanhamentos_novos = \"-\" if df_data_on_date[\"emAcompanhamentoNovos\"].isna().values[0] else f'{int(df_data_on_date[\"emAcompanhamentoNovos\"].values[0]):,}'.replace(\",\",\".\")\n",
        "  casos_acumulados = \"-\" if df_data_on_date[\"casosAcumulado\"].isna().values[0] else f'{int(df_data_on_date[\"casosAcumulado\"].values[0]):,}'.replace(\",\",\".\")\n",
        "  casos_novos = \"-\" if df_data_on_date[\"casosNovos\"].isna().values[0] else f'{int(df_data_on_date[\"casosNovos\"].values[0]):,}'.replace(\",\",\".\")\n",
        "  obitos_acumulado = \"-\" if df_data_on_date[\"obitosAcumulado\"].isna().values[0] else f'{int(df_data_on_date[\"obitosAcumulado\"].values[0]):,}'.replace(\",\",\".\")\n",
        "  obitos_novos = \"-\" if df_data_on_date[\"obitosNovos\"].isna().values[0] else f'{int(df_data_on_date[\"obitosNovos\"].values[0]):,}'.replace(\",\",\".\")\n",
        "  \n",
        "  return(recuperados_novos,\n",
        "         acompanhamentos_novos,\n",
        "         casos_acumulados,\n",
        "         casos_novos,\n",
        "         obitos_acumulado,\n",
        "         obitos_novos)\n",
        "\n",
        "@app.callback(Output(\"line-graph\", \"figure\"),\n",
        "              [\n",
        "                  Input(\"location-dropdown\", \"value\"),\n",
        "                  Input(\"location-button\", \"children\")\n",
        "              ])\n",
        "\n",
        "def plot_line_graph(plot_type,location):\n",
        "  if location == \"BRASIL\":\n",
        "    df_data_on_location = df_brasil.copy()\n",
        "    \n",
        "  else:\n",
        "    df_data_on_location = df_estados[df_estados[\"estado\"] == location]\n",
        "\n",
        "  bar_plots = [\"casosNovos\", \"obitosNovos\"]\n",
        "\n",
        "  fig2 = go.Figure(layout={\"template\":\"plotly_dark\"})\n",
        "    \n",
        "  if plot_type in bar_plots:\n",
        "    fig2.add_trace(go.Bar(x=df_data_on_location[\"data\"], y=df_data_on_location[plot_type]))\n",
        "    \n",
        "  else:\n",
        "    fig2.add_trace(go.Scatter(x=df_data_on_location[\"data\"], y=df_data_on_location[plot_type]))\n",
        "\n",
        "  fig2.update_layout(\n",
        "        paper_bgcolor=\"#242424\",\n",
        "        plot_bgcolor=\"#242424\",\n",
        "        autosize=True,\n",
        "        margin=dict(l=10,r=10,b=10,t=10)\n",
        "    )\n",
        "  return fig2\n",
        "\n",
        "\n",
        "@app.callback(\n",
        "    Output(\"choropleth-map\",\"figure\"),\n",
        "    [Input(\"date-picker\",\"date\")]\n",
        ")\n",
        "def update_map(date):\n",
        "  df_data_on_states = df_estados[df_estados[\"data\"] == date]\n",
        "\n",
        "  fig = px.choropleth_mapbox(df_data_on_states, locations = \"estado\", geojson=estados_brasil,\n",
        "                             center = {\"lat\":CENTER_LAT, \"lon\":CENTER_LON},\n",
        "                             zoom = 4, color=\"casosAcumulado\", color_continuous_scale=\"Redor\",opacity=0.55,\n",
        "                             hover_data={\"casosAcumulado\":True,\n",
        "                             \"casosNovos\":True, \"obitosNovos\":True, \"estado\":False})\n",
        "  \n",
        "  fig.update_layout(paper_bgcolor=\"#242424\",mapbox_style=\"carto-darkmatter\",autosize=True,\n",
        "                    margin=go.layout.Margin(l=0,r=0,t=0,b=0), showlegend=False)\n",
        "  \n",
        "  return fig\n",
        "\n",
        "@app.callback(\n",
        "    Output(\"location-button\",\"children\"),\n",
        "    [Input(\"choropleth-map\", \"clickData\"),\n",
        "     Input(\"location-button\",\"n_clicks\")]\n",
        ")\n",
        "\n",
        "def update_location(click_data, n_clicks):\n",
        "  changed_id = [p[\"prop_id\"] for p in dash.callback_context.triggered][0]\n",
        "  if click_data is not None and changed_id != \"location-button.n_clicks\":\n",
        "    state = click_data[\"points\"][0][\"location\"]\n",
        "    return \"{}\".format(state)\n",
        "  else:\n",
        "    return \"BRASIL\"\n",
        "\n",
        "\n",
        "if __name__ == \"__main__\":\n",
        "  app.run_server(debug=True)"
      ],
      "metadata": {
        "colab": {
          "base_uri": "https://localhost:8080/",
          "height": 121
        },
        "id": "aOWq99ucy9vA",
        "outputId": "1c233465-e0ce-4047-8581-ecab8e2e7816"
      },
      "execution_count": 18,
      "outputs": [
        {
          "output_type": "stream",
          "name": "stdout",
          "text": [
            "Dash is running on http://127.0.0.1:8050/\n",
            "\n"
          ]
        },
        {
          "output_type": "stream",
          "name": "stderr",
          "text": [
            "INFO:dash.dash:Dash is running on http://127.0.0.1:8050/\n",
            "\n"
          ]
        },
        {
          "output_type": "stream",
          "name": "stdout",
          "text": [
            "Dash app running on:\n"
          ]
        },
        {
          "output_type": "display_data",
          "data": {
            "text/plain": [
              "<IPython.core.display.Javascript object>"
            ],
            "application/javascript": [
              "(async (port, path, text, element) => {\n",
              "    if (!google.colab.kernel.accessAllowed) {\n",
              "      return;\n",
              "    }\n",
              "    element.appendChild(document.createTextNode(''));\n",
              "    const url = await google.colab.kernel.proxyPort(port);\n",
              "    const anchor = document.createElement('a');\n",
              "    anchor.href = new URL(path, url).toString();\n",
              "    anchor.target = '_blank';\n",
              "    anchor.setAttribute('data-href', url + path);\n",
              "    anchor.textContent = text;\n",
              "    element.appendChild(anchor);\n",
              "  })(8050, \"/\", \"http://127.0.0.1:8050/\", window.element)"
            ]
          },
          "metadata": {}
        }
      ]
    },
    {
      "cell_type": "markdown",
      "source": [
        "#Interatividade\n",
        "\n",
        "Executar as funções que irão alterar a tabela\n",
        "\n",
        "Quando selecionarmos os estados com mouse, queremos que ele filtre os dados e mostre os dados do estado na data atual no gráfico ao lado. Se clicar no botão BRASIL voltar aos dados Brasil. Ao selecionar a data alterar o mapa e os valores. Selecionar entre óbitos, casos confirmados, etc. Diferentes gráficos por tipos de dados.\n",
        "\n",
        "Isso é feito a partir da criação de funções que recebem parâmetros dos componentes dos dash e que retornarão valores que serão encaixados em atributos de outros componentes."
      ],
      "metadata": {
        "id": "AM-59RK_ZM4z"
      }
    },
    {
      "cell_type": "code",
      "execution_count": 18,
      "metadata": {
        "id": "-1X0VmDOY7kd"
      },
      "outputs": [],
      "source": []
    }
  ]
}